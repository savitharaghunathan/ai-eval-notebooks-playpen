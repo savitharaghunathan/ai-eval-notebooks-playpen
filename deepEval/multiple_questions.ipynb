{
 "cells": [
  {
   "cell_type": "code",
   "execution_count": null,
   "id": "b2246519",
   "metadata": {},
   "outputs": [
    {
     "name": "stdout",
     "output_type": "stream",
     "text": [
      "Requirement already satisfied: python-dotenv in /Users/sraghuna/local_dev/ai-eval-notebooks-playpen/.venv/lib/python3.13/site-packages (1.1.1)\n",
      "Note: you may need to restart the kernel to use updated packages.\n",
      "Found existing installation: deepeval 3.2.6\n",
      "Uninstalling deepeval-3.2.6:\n",
      "  Successfully uninstalled deepeval-3.2.6\n",
      "Note: you may need to restart the kernel to use updated packages.\n",
      "Collecting deepeval>=3.2.6\n",
      "  Using cached deepeval-3.2.6-py3-none-any.whl.metadata (17 kB)\n",
      "Requirement already satisfied: aiohttp in /Users/sraghuna/local_dev/ai-eval-notebooks-playpen/.venv/lib/python3.13/site-packages (from deepeval>=3.2.6) (3.12.14)\n",
      "Requirement already satisfied: anthropic in /Users/sraghuna/local_dev/ai-eval-notebooks-playpen/.venv/lib/python3.13/site-packages (from deepeval>=3.2.6) (0.57.1)\n",
      "Requirement already satisfied: click<8.3.0,>=8.0.0 in /Users/sraghuna/local_dev/ai-eval-notebooks-playpen/.venv/lib/python3.13/site-packages (from deepeval>=3.2.6) (8.2.1)\n",
      "Requirement already satisfied: google-genai<2.0.0,>=1.9.0 in /Users/sraghuna/local_dev/ai-eval-notebooks-playpen/.venv/lib/python3.13/site-packages (from deepeval>=3.2.6) (1.25.0)\n",
      "Requirement already satisfied: grpcio<2.0.0,>=1.67.1 in /Users/sraghuna/local_dev/ai-eval-notebooks-playpen/.venv/lib/python3.13/site-packages (from deepeval>=3.2.6) (1.73.1)\n",
      "Requirement already satisfied: nest_asyncio in /Users/sraghuna/local_dev/ai-eval-notebooks-playpen/.venv/lib/python3.13/site-packages (from deepeval>=3.2.6) (1.6.0)\n",
      "Requirement already satisfied: ollama in /Users/sraghuna/local_dev/ai-eval-notebooks-playpen/.venv/lib/python3.13/site-packages (from deepeval>=3.2.6) (0.5.1)\n",
      "Requirement already satisfied: openai in /Users/sraghuna/local_dev/ai-eval-notebooks-playpen/.venv/lib/python3.13/site-packages (from deepeval>=3.2.6) (1.95.0)\n",
      "Requirement already satisfied: opentelemetry-api<2.0.0,>=1.24.0 in /Users/sraghuna/local_dev/ai-eval-notebooks-playpen/.venv/lib/python3.13/site-packages (from deepeval>=3.2.6) (1.35.0)\n",
      "Requirement already satisfied: opentelemetry-exporter-otlp-proto-grpc<2.0.0,>=1.24.0 in /Users/sraghuna/local_dev/ai-eval-notebooks-playpen/.venv/lib/python3.13/site-packages (from deepeval>=3.2.6) (1.35.0)\n",
      "Requirement already satisfied: opentelemetry-sdk<2.0.0,>=1.24.0 in /Users/sraghuna/local_dev/ai-eval-notebooks-playpen/.venv/lib/python3.13/site-packages (from deepeval>=3.2.6) (1.35.0)\n",
      "Requirement already satisfied: portalocker in /Users/sraghuna/local_dev/ai-eval-notebooks-playpen/.venv/lib/python3.13/site-packages (from deepeval>=3.2.6) (3.2.0)\n",
      "Requirement already satisfied: posthog<4.0.0,>=3.23.0 in /Users/sraghuna/local_dev/ai-eval-notebooks-playpen/.venv/lib/python3.13/site-packages (from deepeval>=3.2.6) (3.25.0)\n",
      "Requirement already satisfied: pyfiglet in /Users/sraghuna/local_dev/ai-eval-notebooks-playpen/.venv/lib/python3.13/site-packages (from deepeval>=3.2.6) (1.0.3)\n",
      "Requirement already satisfied: pytest in /Users/sraghuna/local_dev/ai-eval-notebooks-playpen/.venv/lib/python3.13/site-packages (from deepeval>=3.2.6) (8.4.1)\n",
      "Requirement already satisfied: pytest-asyncio in /Users/sraghuna/local_dev/ai-eval-notebooks-playpen/.venv/lib/python3.13/site-packages (from deepeval>=3.2.6) (1.0.0)\n",
      "Requirement already satisfied: pytest-repeat in /Users/sraghuna/local_dev/ai-eval-notebooks-playpen/.venv/lib/python3.13/site-packages (from deepeval>=3.2.6) (0.9.4)\n",
      "Requirement already satisfied: pytest-rerunfailures<13.0,>=12.0 in /Users/sraghuna/local_dev/ai-eval-notebooks-playpen/.venv/lib/python3.13/site-packages (from deepeval>=3.2.6) (12.0)\n",
      "Requirement already satisfied: pytest-xdist in /Users/sraghuna/local_dev/ai-eval-notebooks-playpen/.venv/lib/python3.13/site-packages (from deepeval>=3.2.6) (3.8.0)\n",
      "Requirement already satisfied: requests<3.0.0,>=2.31.0 in /Users/sraghuna/local_dev/ai-eval-notebooks-playpen/.venv/lib/python3.13/site-packages (from deepeval>=3.2.6) (2.32.4)\n",
      "Requirement already satisfied: rich<14.0.0,>=13.6.0 in /Users/sraghuna/local_dev/ai-eval-notebooks-playpen/.venv/lib/python3.13/site-packages (from deepeval>=3.2.6) (13.9.4)\n",
      "Requirement already satisfied: sentry-sdk in /Users/sraghuna/local_dev/ai-eval-notebooks-playpen/.venv/lib/python3.13/site-packages (from deepeval>=3.2.6) (2.32.0)\n",
      "Requirement already satisfied: setuptools in /Users/sraghuna/local_dev/ai-eval-notebooks-playpen/.venv/lib/python3.13/site-packages (from deepeval>=3.2.6) (80.9.0)\n",
      "Requirement already satisfied: tabulate<0.10.0,>=0.9.0 in /Users/sraghuna/local_dev/ai-eval-notebooks-playpen/.venv/lib/python3.13/site-packages (from deepeval>=3.2.6) (0.9.0)\n",
      "Requirement already satisfied: tenacity<=9.0.0 in /Users/sraghuna/local_dev/ai-eval-notebooks-playpen/.venv/lib/python3.13/site-packages (from deepeval>=3.2.6) (8.5.0)\n",
      "Requirement already satisfied: tqdm<5.0.0,>=4.66.1 in /Users/sraghuna/local_dev/ai-eval-notebooks-playpen/.venv/lib/python3.13/site-packages (from deepeval>=3.2.6) (4.67.1)\n",
      "Requirement already satisfied: typer<1.0.0,>=0.9 in /Users/sraghuna/local_dev/ai-eval-notebooks-playpen/.venv/lib/python3.13/site-packages (from deepeval>=3.2.6) (0.16.0)\n",
      "Requirement already satisfied: wheel in /Users/sraghuna/local_dev/ai-eval-notebooks-playpen/.venv/lib/python3.13/site-packages (from deepeval>=3.2.6) (0.45.1)\n",
      "Requirement already satisfied: anyio<5.0.0,>=4.8.0 in /Users/sraghuna/local_dev/ai-eval-notebooks-playpen/.venv/lib/python3.13/site-packages (from google-genai<2.0.0,>=1.9.0->deepeval>=3.2.6) (4.9.0)\n",
      "Requirement already satisfied: google-auth<3.0.0,>=2.14.1 in /Users/sraghuna/local_dev/ai-eval-notebooks-playpen/.venv/lib/python3.13/site-packages (from google-genai<2.0.0,>=1.9.0->deepeval>=3.2.6) (2.40.3)\n",
      "Requirement already satisfied: httpx<1.0.0,>=0.28.1 in /Users/sraghuna/local_dev/ai-eval-notebooks-playpen/.venv/lib/python3.13/site-packages (from google-genai<2.0.0,>=1.9.0->deepeval>=3.2.6) (0.28.1)\n",
      "Requirement already satisfied: pydantic<3.0.0,>=2.0.0 in /Users/sraghuna/local_dev/ai-eval-notebooks-playpen/.venv/lib/python3.13/site-packages (from google-genai<2.0.0,>=1.9.0->deepeval>=3.2.6) (2.11.7)\n",
      "Requirement already satisfied: websockets<15.1.0,>=13.0.0 in /Users/sraghuna/local_dev/ai-eval-notebooks-playpen/.venv/lib/python3.13/site-packages (from google-genai<2.0.0,>=1.9.0->deepeval>=3.2.6) (15.0.1)\n",
      "Requirement already satisfied: typing-extensions<5.0.0,>=4.11.0 in /Users/sraghuna/local_dev/ai-eval-notebooks-playpen/.venv/lib/python3.13/site-packages (from google-genai<2.0.0,>=1.9.0->deepeval>=3.2.6) (4.14.1)\n",
      "Requirement already satisfied: idna>=2.8 in /Users/sraghuna/local_dev/ai-eval-notebooks-playpen/.venv/lib/python3.13/site-packages (from anyio<5.0.0,>=4.8.0->google-genai<2.0.0,>=1.9.0->deepeval>=3.2.6) (3.10)\n",
      "Requirement already satisfied: sniffio>=1.1 in /Users/sraghuna/local_dev/ai-eval-notebooks-playpen/.venv/lib/python3.13/site-packages (from anyio<5.0.0,>=4.8.0->google-genai<2.0.0,>=1.9.0->deepeval>=3.2.6) (1.3.1)\n",
      "Requirement already satisfied: cachetools<6.0,>=2.0.0 in /Users/sraghuna/local_dev/ai-eval-notebooks-playpen/.venv/lib/python3.13/site-packages (from google-auth<3.0.0,>=2.14.1->google-genai<2.0.0,>=1.9.0->deepeval>=3.2.6) (5.5.2)\n",
      "Requirement already satisfied: pyasn1-modules>=0.2.1 in /Users/sraghuna/local_dev/ai-eval-notebooks-playpen/.venv/lib/python3.13/site-packages (from google-auth<3.0.0,>=2.14.1->google-genai<2.0.0,>=1.9.0->deepeval>=3.2.6) (0.4.2)\n",
      "Requirement already satisfied: rsa<5,>=3.1.4 in /Users/sraghuna/local_dev/ai-eval-notebooks-playpen/.venv/lib/python3.13/site-packages (from google-auth<3.0.0,>=2.14.1->google-genai<2.0.0,>=1.9.0->deepeval>=3.2.6) (4.9.1)\n",
      "Requirement already satisfied: certifi in /Users/sraghuna/local_dev/ai-eval-notebooks-playpen/.venv/lib/python3.13/site-packages (from httpx<1.0.0,>=0.28.1->google-genai<2.0.0,>=1.9.0->deepeval>=3.2.6) (2025.7.9)\n",
      "Requirement already satisfied: httpcore==1.* in /Users/sraghuna/local_dev/ai-eval-notebooks-playpen/.venv/lib/python3.13/site-packages (from httpx<1.0.0,>=0.28.1->google-genai<2.0.0,>=1.9.0->deepeval>=3.2.6) (1.0.9)\n",
      "Requirement already satisfied: h11>=0.16 in /Users/sraghuna/local_dev/ai-eval-notebooks-playpen/.venv/lib/python3.13/site-packages (from httpcore==1.*->httpx<1.0.0,>=0.28.1->google-genai<2.0.0,>=1.9.0->deepeval>=3.2.6) (0.16.0)\n",
      "Requirement already satisfied: importlib-metadata<8.8.0,>=6.0 in /Users/sraghuna/local_dev/ai-eval-notebooks-playpen/.venv/lib/python3.13/site-packages (from opentelemetry-api<2.0.0,>=1.24.0->deepeval>=3.2.6) (8.7.0)\n",
      "Requirement already satisfied: zipp>=3.20 in /Users/sraghuna/local_dev/ai-eval-notebooks-playpen/.venv/lib/python3.13/site-packages (from importlib-metadata<8.8.0,>=6.0->opentelemetry-api<2.0.0,>=1.24.0->deepeval>=3.2.6) (3.23.0)\n",
      "Requirement already satisfied: googleapis-common-protos~=1.57 in /Users/sraghuna/local_dev/ai-eval-notebooks-playpen/.venv/lib/python3.13/site-packages (from opentelemetry-exporter-otlp-proto-grpc<2.0.0,>=1.24.0->deepeval>=3.2.6) (1.70.0)\n",
      "Requirement already satisfied: opentelemetry-exporter-otlp-proto-common==1.35.0 in /Users/sraghuna/local_dev/ai-eval-notebooks-playpen/.venv/lib/python3.13/site-packages (from opentelemetry-exporter-otlp-proto-grpc<2.0.0,>=1.24.0->deepeval>=3.2.6) (1.35.0)\n",
      "Requirement already satisfied: opentelemetry-proto==1.35.0 in /Users/sraghuna/local_dev/ai-eval-notebooks-playpen/.venv/lib/python3.13/site-packages (from opentelemetry-exporter-otlp-proto-grpc<2.0.0,>=1.24.0->deepeval>=3.2.6) (1.35.0)\n",
      "Requirement already satisfied: protobuf<7.0,>=5.0 in /Users/sraghuna/local_dev/ai-eval-notebooks-playpen/.venv/lib/python3.13/site-packages (from opentelemetry-proto==1.35.0->opentelemetry-exporter-otlp-proto-grpc<2.0.0,>=1.24.0->deepeval>=3.2.6) (6.31.1)\n",
      "Requirement already satisfied: opentelemetry-semantic-conventions==0.56b0 in /Users/sraghuna/local_dev/ai-eval-notebooks-playpen/.venv/lib/python3.13/site-packages (from opentelemetry-sdk<2.0.0,>=1.24.0->deepeval>=3.2.6) (0.56b0)\n",
      "Requirement already satisfied: six>=1.5 in /Users/sraghuna/local_dev/ai-eval-notebooks-playpen/.venv/lib/python3.13/site-packages (from posthog<4.0.0,>=3.23.0->deepeval>=3.2.6) (1.17.0)\n",
      "Requirement already satisfied: monotonic>=1.5 in /Users/sraghuna/local_dev/ai-eval-notebooks-playpen/.venv/lib/python3.13/site-packages (from posthog<4.0.0,>=3.23.0->deepeval>=3.2.6) (1.6)\n",
      "Requirement already satisfied: backoff>=1.10.0 in /Users/sraghuna/local_dev/ai-eval-notebooks-playpen/.venv/lib/python3.13/site-packages (from posthog<4.0.0,>=3.23.0->deepeval>=3.2.6) (2.2.1)\n",
      "Requirement already satisfied: python-dateutil>2.1 in /Users/sraghuna/local_dev/ai-eval-notebooks-playpen/.venv/lib/python3.13/site-packages (from posthog<4.0.0,>=3.23.0->deepeval>=3.2.6) (2.9.0.post0)\n",
      "Requirement already satisfied: distro>=1.5.0 in /Users/sraghuna/local_dev/ai-eval-notebooks-playpen/.venv/lib/python3.13/site-packages (from posthog<4.0.0,>=3.23.0->deepeval>=3.2.6) (1.9.0)\n",
      "Requirement already satisfied: annotated-types>=0.6.0 in /Users/sraghuna/local_dev/ai-eval-notebooks-playpen/.venv/lib/python3.13/site-packages (from pydantic<3.0.0,>=2.0.0->google-genai<2.0.0,>=1.9.0->deepeval>=3.2.6) (0.7.0)\n",
      "Requirement already satisfied: pydantic-core==2.33.2 in /Users/sraghuna/local_dev/ai-eval-notebooks-playpen/.venv/lib/python3.13/site-packages (from pydantic<3.0.0,>=2.0.0->google-genai<2.0.0,>=1.9.0->deepeval>=3.2.6) (2.33.2)\n",
      "Requirement already satisfied: typing-inspection>=0.4.0 in /Users/sraghuna/local_dev/ai-eval-notebooks-playpen/.venv/lib/python3.13/site-packages (from pydantic<3.0.0,>=2.0.0->google-genai<2.0.0,>=1.9.0->deepeval>=3.2.6) (0.4.1)\n",
      "Requirement already satisfied: packaging>=17.1 in /Users/sraghuna/local_dev/ai-eval-notebooks-playpen/.venv/lib/python3.13/site-packages (from pytest-rerunfailures<13.0,>=12.0->deepeval>=3.2.6) (24.2)\n",
      "Requirement already satisfied: charset_normalizer<4,>=2 in /Users/sraghuna/local_dev/ai-eval-notebooks-playpen/.venv/lib/python3.13/site-packages (from requests<3.0.0,>=2.31.0->deepeval>=3.2.6) (3.4.2)\n",
      "Requirement already satisfied: urllib3<3,>=1.21.1 in /Users/sraghuna/local_dev/ai-eval-notebooks-playpen/.venv/lib/python3.13/site-packages (from requests<3.0.0,>=2.31.0->deepeval>=3.2.6) (2.5.0)\n",
      "Requirement already satisfied: markdown-it-py>=2.2.0 in /Users/sraghuna/local_dev/ai-eval-notebooks-playpen/.venv/lib/python3.13/site-packages (from rich<14.0.0,>=13.6.0->deepeval>=3.2.6) (3.0.0)\n",
      "Requirement already satisfied: pygments<3.0.0,>=2.13.0 in /Users/sraghuna/local_dev/ai-eval-notebooks-playpen/.venv/lib/python3.13/site-packages (from rich<14.0.0,>=13.6.0->deepeval>=3.2.6) (2.19.2)\n",
      "Requirement already satisfied: pyasn1>=0.1.3 in /Users/sraghuna/local_dev/ai-eval-notebooks-playpen/.venv/lib/python3.13/site-packages (from rsa<5,>=3.1.4->google-auth<3.0.0,>=2.14.1->google-genai<2.0.0,>=1.9.0->deepeval>=3.2.6) (0.6.1)\n",
      "Requirement already satisfied: shellingham>=1.3.0 in /Users/sraghuna/local_dev/ai-eval-notebooks-playpen/.venv/lib/python3.13/site-packages (from typer<1.0.0,>=0.9->deepeval>=3.2.6) (1.5.4)\n",
      "Requirement already satisfied: mdurl~=0.1 in /Users/sraghuna/local_dev/ai-eval-notebooks-playpen/.venv/lib/python3.13/site-packages (from markdown-it-py>=2.2.0->rich<14.0.0,>=13.6.0->deepeval>=3.2.6) (0.1.2)\n",
      "Requirement already satisfied: iniconfig>=1 in /Users/sraghuna/local_dev/ai-eval-notebooks-playpen/.venv/lib/python3.13/site-packages (from pytest->deepeval>=3.2.6) (2.1.0)\n",
      "Requirement already satisfied: pluggy<2,>=1.5 in /Users/sraghuna/local_dev/ai-eval-notebooks-playpen/.venv/lib/python3.13/site-packages (from pytest->deepeval>=3.2.6) (1.6.0)\n",
      "Requirement already satisfied: aiohappyeyeballs>=2.5.0 in /Users/sraghuna/local_dev/ai-eval-notebooks-playpen/.venv/lib/python3.13/site-packages (from aiohttp->deepeval>=3.2.6) (2.6.1)\n",
      "Requirement already satisfied: aiosignal>=1.4.0 in /Users/sraghuna/local_dev/ai-eval-notebooks-playpen/.venv/lib/python3.13/site-packages (from aiohttp->deepeval>=3.2.6) (1.4.0)\n",
      "Requirement already satisfied: attrs>=17.3.0 in /Users/sraghuna/local_dev/ai-eval-notebooks-playpen/.venv/lib/python3.13/site-packages (from aiohttp->deepeval>=3.2.6) (25.3.0)\n",
      "Requirement already satisfied: frozenlist>=1.1.1 in /Users/sraghuna/local_dev/ai-eval-notebooks-playpen/.venv/lib/python3.13/site-packages (from aiohttp->deepeval>=3.2.6) (1.7.0)\n",
      "Requirement already satisfied: multidict<7.0,>=4.5 in /Users/sraghuna/local_dev/ai-eval-notebooks-playpen/.venv/lib/python3.13/site-packages (from aiohttp->deepeval>=3.2.6) (6.6.3)\n",
      "Requirement already satisfied: propcache>=0.2.0 in /Users/sraghuna/local_dev/ai-eval-notebooks-playpen/.venv/lib/python3.13/site-packages (from aiohttp->deepeval>=3.2.6) (0.3.2)\n",
      "Requirement already satisfied: yarl<2.0,>=1.17.0 in /Users/sraghuna/local_dev/ai-eval-notebooks-playpen/.venv/lib/python3.13/site-packages (from aiohttp->deepeval>=3.2.6) (1.20.1)\n",
      "Requirement already satisfied: jiter<1,>=0.4.0 in /Users/sraghuna/local_dev/ai-eval-notebooks-playpen/.venv/lib/python3.13/site-packages (from anthropic->deepeval>=3.2.6) (0.10.0)\n",
      "Requirement already satisfied: execnet>=2.1 in /Users/sraghuna/local_dev/ai-eval-notebooks-playpen/.venv/lib/python3.13/site-packages (from pytest-xdist->deepeval>=3.2.6) (2.1.1)\n",
      "Using cached deepeval-3.2.6-py3-none-any.whl (582 kB)\n",
      "Installing collected packages: deepeval\n",
      "Successfully installed deepeval-3.2.6\n",
      "Note: you may need to restart the kernel to use updated packages.\n"
     ]
    }
   ],
   "source": [
    "\n",
    "%pip install python-dotenv\n",
    "%pip uninstall -y deepeval\n",
    "%pip install \"deepeval>=3.2.6\"\n",
    "\n",
    "\n"
   ]
  },
  {
   "cell_type": "code",
   "execution_count": 1,
   "id": "5339c0b7",
   "metadata": {},
   "outputs": [
    {
     "data": {
      "application/vnd.jupyter.widget-view+json": {
       "model_id": "f9f3f34a4ee64c14999990a19ca7d468",
       "version_major": 2,
       "version_minor": 0
      },
      "text/plain": [
       "Output()"
      ]
     },
     "metadata": {},
     "output_type": "display_data"
    },
    {
     "name": "stdout",
     "output_type": "stream",
     "text": [
      "\n",
      "### Example 1\n",
      "**Question:** Why do leaves change color in the fall?\n",
      "**Response:** Leaves change color in autumn because shorter days and cooler temperatures cause chlorophyll to break down, revealing other pigments.\n"
     ]
    },
    {
     "data": {
      "text/html": [
       "<pre style=\"white-space:pre;overflow-x:auto;line-height:normal;font-family:Menlo,'DejaVu Sans Mono',consolas,'Courier New',monospace\"></pre>\n"
      ],
      "text/plain": []
     },
     "metadata": {},
     "output_type": "display_data"
    },
    {
     "data": {
      "application/vnd.jupyter.widget-view+json": {
       "model_id": "0177a32a87514abeaf39d42d957f9a7f",
       "version_major": 2,
       "version_minor": 0
      },
      "text/plain": [
       "Output()"
      ]
     },
     "metadata": {},
     "output_type": "display_data"
    },
    {
     "data": {
      "text/html": [
       "<pre style=\"white-space:pre;overflow-x:auto;line-height:normal;font-family:Menlo,'DejaVu Sans Mono',consolas,'Courier New',monospace\"></pre>\n"
      ],
      "text/plain": []
     },
     "metadata": {},
     "output_type": "display_data"
    },
    {
     "data": {
      "application/vnd.jupyter.widget-view+json": {
       "model_id": "f5867336bd41400da54232443219cd9a",
       "version_major": 2,
       "version_minor": 0
      },
      "text/plain": [
       "Output()"
      ]
     },
     "metadata": {},
     "output_type": "display_data"
    },
    {
     "data": {
      "text/html": [
       "<pre style=\"white-space:pre;overflow-x:auto;line-height:normal;font-family:Menlo,'DejaVu Sans Mono',consolas,'Courier New',monospace\"></pre>\n"
      ],
      "text/plain": []
     },
     "metadata": {},
     "output_type": "display_data"
    },
    {
     "data": {
      "application/vnd.jupyter.widget-view+json": {
       "model_id": "0443d631d5e0460fb83e9d996ecc7674",
       "version_major": 2,
       "version_minor": 0
      },
      "text/plain": [
       "Output()"
      ]
     },
     "metadata": {},
     "output_type": "display_data"
    },
    {
     "data": {
      "text/html": [
       "<pre style=\"white-space:pre;overflow-x:auto;line-height:normal;font-family:Menlo,'DejaVu Sans Mono',consolas,'Courier New',monospace\"></pre>\n"
      ],
      "text/plain": []
     },
     "metadata": {},
     "output_type": "display_data"
    },
    {
     "data": {
      "application/vnd.jupyter.widget-view+json": {
       "model_id": "be294423cd7b46d0a17badd72d552e7b",
       "version_major": 2,
       "version_minor": 0
      },
      "text/plain": [
       "Output()"
      ]
     },
     "metadata": {},
     "output_type": "display_data"
    },
    {
     "name": "stdout",
     "output_type": "stream",
     "text": [
      "\n",
      "| Metric            | Score |\n",
      "|-------------------|-------|\n",
      "| Faithfulness       | 1.000 |\n",
      "| Context Precision  | 1.000 |\n",
      "| Answer Relevancy   | 1.000 |\n",
      "| Contextual Recall  | 1.000 |\n",
      "\n",
      "### Example 2\n",
      "**Question:** Why do we have seasons on Earth?\n",
      "**Response:** Seasons occur because the Earth's axis is tilted, which changes how sunlight hits different parts of the planet throughout the year.\n"
     ]
    },
    {
     "data": {
      "text/html": [
       "<pre style=\"white-space:pre;overflow-x:auto;line-height:normal;font-family:Menlo,'DejaVu Sans Mono',consolas,'Courier New',monospace\"></pre>\n"
      ],
      "text/plain": []
     },
     "metadata": {},
     "output_type": "display_data"
    },
    {
     "data": {
      "application/vnd.jupyter.widget-view+json": {
       "model_id": "1333cc081da544d8939420a3727a2c1c",
       "version_major": 2,
       "version_minor": 0
      },
      "text/plain": [
       "Output()"
      ]
     },
     "metadata": {},
     "output_type": "display_data"
    },
    {
     "data": {
      "text/html": [
       "<pre style=\"white-space:pre;overflow-x:auto;line-height:normal;font-family:Menlo,'DejaVu Sans Mono',consolas,'Courier New',monospace\"></pre>\n"
      ],
      "text/plain": []
     },
     "metadata": {},
     "output_type": "display_data"
    },
    {
     "data": {
      "application/vnd.jupyter.widget-view+json": {
       "model_id": "d4ecc90ade0c45dba368cdbb86d46c51",
       "version_major": 2,
       "version_minor": 0
      },
      "text/plain": [
       "Output()"
      ]
     },
     "metadata": {},
     "output_type": "display_data"
    },
    {
     "data": {
      "text/html": [
       "<pre style=\"white-space:pre;overflow-x:auto;line-height:normal;font-family:Menlo,'DejaVu Sans Mono',consolas,'Courier New',monospace\"></pre>\n"
      ],
      "text/plain": []
     },
     "metadata": {},
     "output_type": "display_data"
    },
    {
     "data": {
      "application/vnd.jupyter.widget-view+json": {
       "model_id": "9b3b0c1e243c402ba0b9bfc929f07f14",
       "version_major": 2,
       "version_minor": 0
      },
      "text/plain": [
       "Output()"
      ]
     },
     "metadata": {},
     "output_type": "display_data"
    },
    {
     "data": {
      "text/html": [
       "<pre style=\"white-space:pre;overflow-x:auto;line-height:normal;font-family:Menlo,'DejaVu Sans Mono',consolas,'Courier New',monospace\"></pre>\n"
      ],
      "text/plain": []
     },
     "metadata": {},
     "output_type": "display_data"
    },
    {
     "data": {
      "application/vnd.jupyter.widget-view+json": {
       "model_id": "a576b52852f24c41ba4a8ab724a8e9ee",
       "version_major": 2,
       "version_minor": 0
      },
      "text/plain": [
       "Output()"
      ]
     },
     "metadata": {},
     "output_type": "display_data"
    },
    {
     "name": "stdout",
     "output_type": "stream",
     "text": [
      "\n",
      "| Metric            | Score |\n",
      "|-------------------|-------|\n",
      "| Faithfulness       | 1.000 |\n",
      "| Context Precision  | 1.000 |\n",
      "| Answer Relevancy   | 1.000 |\n",
      "| Contextual Recall  | 1.000 |\n",
      "\n",
      "### Example 3\n",
      "**Question:** Why do we have seasons on Earth?\n",
      "**Response:** We have seasons because Earth moves around the Sun.\n"
     ]
    },
    {
     "data": {
      "text/html": [
       "<pre style=\"white-space:pre;overflow-x:auto;line-height:normal;font-family:Menlo,'DejaVu Sans Mono',consolas,'Courier New',monospace\"></pre>\n"
      ],
      "text/plain": []
     },
     "metadata": {},
     "output_type": "display_data"
    },
    {
     "data": {
      "application/vnd.jupyter.widget-view+json": {
       "model_id": "54c5e4af3d564756ab118313759502de",
       "version_major": 2,
       "version_minor": 0
      },
      "text/plain": [
       "Output()"
      ]
     },
     "metadata": {},
     "output_type": "display_data"
    },
    {
     "data": {
      "text/html": [
       "<pre style=\"white-space:pre;overflow-x:auto;line-height:normal;font-family:Menlo,'DejaVu Sans Mono',consolas,'Courier New',monospace\"></pre>\n"
      ],
      "text/plain": []
     },
     "metadata": {},
     "output_type": "display_data"
    },
    {
     "data": {
      "application/vnd.jupyter.widget-view+json": {
       "model_id": "d3930f1a9c574864979ab034e7a67429",
       "version_major": 2,
       "version_minor": 0
      },
      "text/plain": [
       "Output()"
      ]
     },
     "metadata": {},
     "output_type": "display_data"
    },
    {
     "data": {
      "text/html": [
       "<pre style=\"white-space:pre;overflow-x:auto;line-height:normal;font-family:Menlo,'DejaVu Sans Mono',consolas,'Courier New',monospace\"></pre>\n"
      ],
      "text/plain": []
     },
     "metadata": {},
     "output_type": "display_data"
    },
    {
     "data": {
      "application/vnd.jupyter.widget-view+json": {
       "model_id": "b00262d0fd0942a8b322092ef8944689",
       "version_major": 2,
       "version_minor": 0
      },
      "text/plain": [
       "Output()"
      ]
     },
     "metadata": {},
     "output_type": "display_data"
    },
    {
     "data": {
      "text/html": [
       "<pre style=\"white-space:pre;overflow-x:auto;line-height:normal;font-family:Menlo,'DejaVu Sans Mono',consolas,'Courier New',monospace\"></pre>\n"
      ],
      "text/plain": []
     },
     "metadata": {},
     "output_type": "display_data"
    },
    {
     "data": {
      "application/vnd.jupyter.widget-view+json": {
       "model_id": "c44f8dd8a2b7471497ebffd68cb19494",
       "version_major": 2,
       "version_minor": 0
      },
      "text/plain": [
       "Output()"
      ]
     },
     "metadata": {},
     "output_type": "display_data"
    },
    {
     "name": "stdout",
     "output_type": "stream",
     "text": [
      "\n",
      "| Metric            | Score |\n",
      "|-------------------|-------|\n",
      "| Faithfulness       | 1.000 |\n",
      "| Context Precision  | 1.000 |\n",
      "| Answer Relevancy   | 1.000 |\n",
      "| Contextual Recall  | 1.000 |\n",
      "\n",
      "### Example 4\n",
      "**Question:** Why do leaves change color in the fall?\n",
      "**Response:** Leaves change color because fish swim upstream in autumn.\n"
     ]
    },
    {
     "data": {
      "text/html": [
       "<pre style=\"white-space:pre;overflow-x:auto;line-height:normal;font-family:Menlo,'DejaVu Sans Mono',consolas,'Courier New',monospace\"></pre>\n"
      ],
      "text/plain": []
     },
     "metadata": {},
     "output_type": "display_data"
    },
    {
     "data": {
      "application/vnd.jupyter.widget-view+json": {
       "model_id": "5443c8923e0e424da4abfb1c5321de79",
       "version_major": 2,
       "version_minor": 0
      },
      "text/plain": [
       "Output()"
      ]
     },
     "metadata": {},
     "output_type": "display_data"
    },
    {
     "data": {
      "text/html": [
       "<pre style=\"white-space:pre;overflow-x:auto;line-height:normal;font-family:Menlo,'DejaVu Sans Mono',consolas,'Courier New',monospace\"></pre>\n"
      ],
      "text/plain": []
     },
     "metadata": {},
     "output_type": "display_data"
    },
    {
     "data": {
      "application/vnd.jupyter.widget-view+json": {
       "model_id": "8126b2bc1d534f428b431fe6d3ba2100",
       "version_major": 2,
       "version_minor": 0
      },
      "text/plain": [
       "Output()"
      ]
     },
     "metadata": {},
     "output_type": "display_data"
    },
    {
     "data": {
      "text/html": [
       "<pre style=\"white-space:pre;overflow-x:auto;line-height:normal;font-family:Menlo,'DejaVu Sans Mono',consolas,'Courier New',monospace\"></pre>\n"
      ],
      "text/plain": []
     },
     "metadata": {},
     "output_type": "display_data"
    },
    {
     "data": {
      "application/vnd.jupyter.widget-view+json": {
       "model_id": "09afbf38757c433a8f67239bfcda32d5",
       "version_major": 2,
       "version_minor": 0
      },
      "text/plain": [
       "Output()"
      ]
     },
     "metadata": {},
     "output_type": "display_data"
    },
    {
     "data": {
      "text/html": [
       "<pre style=\"white-space:pre;overflow-x:auto;line-height:normal;font-family:Menlo,'DejaVu Sans Mono',consolas,'Courier New',monospace\"></pre>\n"
      ],
      "text/plain": []
     },
     "metadata": {},
     "output_type": "display_data"
    },
    {
     "name": "stdout",
     "output_type": "stream",
     "text": [
      "\n",
      "| Metric            | Score |\n",
      "|-------------------|-------|\n",
      "| Faithfulness       | 0.000 |\n",
      "| Context Precision  | 1.000 |\n",
      "| Answer Relevancy   | 0.000 |\n",
      "| Contextual Recall  | 0.000 |\n"
     ]
    }
   ],
   "source": [
    "from dotenv import load_dotenv\n",
    "import os\n",
    "from deepeval.metrics import FaithfulnessMetric, ContextualPrecisionMetric, AnswerRelevancyMetric, ContextualRecallMetric\n",
    "from deepeval.test_case import LLMTestCase\n",
    "\n",
    "load_dotenv()\n",
    "if not os.getenv(\"OPENAI_API_KEY\"):\n",
    "    raise ValueError(\"OPENAI_API_KEY not found in .env file.\")\n",
    "\n",
    "examples = [\n",
    "    {\n",
    "        \"question\": \"Why do leaves change color in the fall?\",\n",
    "        \"contexts\": [\n",
    "            \"Leaves turn color in autumn due to changes in daylight and temperature.\",\n",
    "            \"Photosynthesis slows and chlorophyll breaks down, revealing red and yellow pigments.\",\n",
    "            \"Some tree species have different pigment compounds that show up prominently in fall.\"\n",
    "        ],\n",
    "        \"response\": \"Leaves change color in autumn because shorter days and cooler temperatures cause chlorophyll to break down, revealing other pigments.\"\n",
    "    },\n",
    "    {\n",
    "        \"question\": \"Why do we have seasons on Earth?\",\n",
    "        \"contexts\": [\n",
    "            \"The tilt of Earth's axis relative to its orbit causes different parts of Earth to receive varying amounts of sunlight throughout the year.\",\n",
    "            \"This axial tilt is approximately 23.5 degrees.\",\n",
    "            \"Changes in distance from the sun during the orbit do not cause seasons.\"\n",
    "        ],\n",
    "        \"response\": \"Seasons occur because the Earth's axis is tilted, which changes how sunlight hits different parts of the planet throughout the year.\"\n",
    "    },\n",
    "    {\n",
    "        \"question\": \"Why do we have seasons on Earth?\",\n",
    "        \"contexts\": [\n",
    "            \"Earth revolves around the Sun in an elliptical orbit.\",\n",
    "            \"There are four main seasons: spring, summer, autumn, and winter.\"\n",
    "        ],\n",
    "        \"response\": \"We have seasons because Earth moves around the Sun.\"\n",
    "    },\n",
    "    {\n",
    "        \"question\": \"Why do leaves change color in the fall?\",\n",
    "        \"contexts\": [\n",
    "            \"Fish migrate upstream to spawn in freshwater rivers.\",\n",
    "            \"This migration ensures the survival of the next generation.\"\n",
    "        ],\n",
    "        \"response\": \"Leaves change color because fish swim upstream in autumn.\"\n",
    "    }\n",
    "]\n",
    "\n",
    "for idx, ex in enumerate(examples, start=1):\n",
    "    print(f\"\\n### Example {idx}\")\n",
    "    print(f\"**Question:** {ex['question']}\")\n",
    "    print(f\"**Response:** {ex['response']}\")\n",
    "    \n",
    "    test_case = LLMTestCase(\n",
    "        input=ex[\"question\"],\n",
    "        actual_output=ex[\"response\"],\n",
    "        expected_output=ex[\"response\"],\n",
    "        retrieval_context=ex[\"contexts\"] \n",
    "    )\n",
    "    \n",
    "    faithfulness_metric = FaithfulnessMetric()\n",
    "    context_precision_metric = ContextualPrecisionMetric()\n",
    "    answer_relevancy_metric = AnswerRelevancyMetric()\n",
    "    contextual_recall_metric = ContextualRecallMetric()  \n",
    "\n",
    "    faithfulness_score = faithfulness_metric.measure(test_case)\n",
    "    context_precision_score = context_precision_metric.measure(test_case)\n",
    "    answer_relevancy_score = answer_relevancy_metric.measure(test_case)\n",
    "    contextual_recall_score = contextual_recall_metric.measure(test_case)  \n",
    "\n",
    "    print(\"\\n| Metric            | Score |\")\n",
    "    print(\"|-------------------|-------|\")\n",
    "    print(f\"| Faithfulness       | {faithfulness_score:.3f} |\")\n",
    "    print(f\"| Context Precision  | {context_precision_score:.3f} |\")\n",
    "    print(f\"| Answer Relevancy   | {answer_relevancy_score:.3f} |\")\n",
    "    print(f\"| Contextual Recall  | {contextual_recall_score:.3f} |\")  \n"
   ]
  },
  {
   "cell_type": "code",
   "execution_count": 3,
   "id": "266f775b",
   "metadata": {},
   "outputs": [
    {
     "data": {
      "application/vnd.jupyter.widget-view+json": {
       "model_id": "81c2e31fb72e466babd4d8906e56c89f",
       "version_major": 2,
       "version_minor": 0
      },
      "text/plain": [
       "Output()"
      ]
     },
     "metadata": {},
     "output_type": "display_data"
    },
    {
     "data": {
      "text/html": [
       "<pre style=\"white-space:pre;overflow-x:auto;line-height:normal;font-family:Menlo,'DejaVu Sans Mono',consolas,'Courier New',monospace\"></pre>\n"
      ],
      "text/plain": []
     },
     "metadata": {},
     "output_type": "display_data"
    },
    {
     "ename": "AssertionError",
     "evalue": "Metrics: Correctness [GEval] (score: 0.5970535200706688, threshold: 0.6, strict: False, error: None, reason: The actual output correctly identifies chlorophyll breakdown as the main reason for leaves changing color, aligning with the expected output's main point. However, it omits the detail that other pigments are revealed when chlorophyll fades, which is a key component in the expected output. There are no significant inaccuracies, but the omission of the role of other pigments prevents a higher score.) failed.",
     "output_type": "error",
     "traceback": [
      "\u001b[31m---------------------------------------------------------------------------\u001b[39m",
      "\u001b[31mAssertionError\u001b[39m                            Traceback (most recent call last)",
      "\u001b[36mCell\u001b[39m\u001b[36m \u001b[39m\u001b[32mIn[3]\u001b[39m\u001b[32m, line 17\u001b[39m\n\u001b[32m      4\u001b[39m test_case = LLMTestCase(\n\u001b[32m      5\u001b[39m     \u001b[38;5;28minput\u001b[39m=\u001b[33m\"\u001b[39m\u001b[33mWhy do leaves change color in autumn?\u001b[39m\u001b[33m\"\u001b[39m,\n\u001b[32m      6\u001b[39m     actual_output=\u001b[33m\"\u001b[39m\u001b[33mLeaves change color in autumn due to chlorophyll breakdown.\u001b[39m\u001b[33m\"\u001b[39m,\n\u001b[32m      7\u001b[39m     expected_output=\u001b[33m\"\u001b[39m\u001b[33mLeaves change color because chlorophyll fades, revealing other pigments.\u001b[39m\u001b[33m\"\u001b[39m\n\u001b[32m      8\u001b[39m )\n\u001b[32m     10\u001b[39m correctness_metric = GEval(\n\u001b[32m     11\u001b[39m     name=\u001b[33m\"\u001b[39m\u001b[33mCorrectness\u001b[39m\u001b[33m\"\u001b[39m,\n\u001b[32m     12\u001b[39m     criteria=\u001b[33m\"\u001b[39m\u001b[33mDetermine if the actual_output correctly and completely explains why leaves change color in autumn based on the expected_output.\u001b[39m\u001b[33m\"\u001b[39m,\n\u001b[32m     13\u001b[39m     evaluation_params=[LLMTestCaseParams.ACTUAL_OUTPUT, LLMTestCaseParams.EXPECTED_OUTPUT],\n\u001b[32m     14\u001b[39m     threshold=\u001b[32m0.6\u001b[39m\n\u001b[32m     15\u001b[39m )\n\u001b[32m---> \u001b[39m\u001b[32m17\u001b[39m \u001b[43massert_test\u001b[49m\u001b[43m(\u001b[49m\u001b[43mtest_case\u001b[49m\u001b[43m,\u001b[49m\u001b[43m \u001b[49m\u001b[43m[\u001b[49m\u001b[43mcorrectness_metric\u001b[49m\u001b[43m]\u001b[49m\u001b[43m)\u001b[49m\n",
      "\u001b[36mFile \u001b[39m\u001b[32m~/local_dev/ai-eval-notebooks-playpen/.venv/lib/python3.13/site-packages/deepeval/evaluate/evaluate.py:169\u001b[39m, in \u001b[36massert_test\u001b[39m\u001b[34m(test_case, metrics, golden, observed_callback, run_async)\u001b[39m\n\u001b[32m    161\u001b[39m             failed_metrics_data.append(metric_data)\n\u001b[32m    163\u001b[39m failed_metrics_str = \u001b[33m\"\u001b[39m\u001b[33m, \u001b[39m\u001b[33m\"\u001b[39m.join(\n\u001b[32m    164\u001b[39m     [\n\u001b[32m    165\u001b[39m         \u001b[33mf\u001b[39m\u001b[33m\"\u001b[39m\u001b[38;5;132;01m{\u001b[39;00mmetrics_data.name\u001b[38;5;132;01m}\u001b[39;00m\u001b[33m (score: \u001b[39m\u001b[38;5;132;01m{\u001b[39;00mmetrics_data.score\u001b[38;5;132;01m}\u001b[39;00m\u001b[33m, threshold: \u001b[39m\u001b[38;5;132;01m{\u001b[39;00mmetrics_data.threshold\u001b[38;5;132;01m}\u001b[39;00m\u001b[33m, strict: \u001b[39m\u001b[38;5;132;01m{\u001b[39;00mmetrics_data.strict_mode\u001b[38;5;132;01m}\u001b[39;00m\u001b[33m, error: \u001b[39m\u001b[38;5;132;01m{\u001b[39;00mmetrics_data.error\u001b[38;5;132;01m}\u001b[39;00m\u001b[33m, reason: \u001b[39m\u001b[38;5;132;01m{\u001b[39;00mmetrics_data.reason\u001b[38;5;132;01m}\u001b[39;00m\u001b[33m)\u001b[39m\u001b[33m\"\u001b[39m\n\u001b[32m    166\u001b[39m         \u001b[38;5;28;01mfor\u001b[39;00m metrics_data \u001b[38;5;129;01min\u001b[39;00m failed_metrics_data\n\u001b[32m    167\u001b[39m     ]\n\u001b[32m    168\u001b[39m )\n\u001b[32m--> \u001b[39m\u001b[32m169\u001b[39m \u001b[38;5;28;01mraise\u001b[39;00m \u001b[38;5;167;01mAssertionError\u001b[39;00m(\u001b[33mf\u001b[39m\u001b[33m\"\u001b[39m\u001b[33mMetrics: \u001b[39m\u001b[38;5;132;01m{\u001b[39;00mfailed_metrics_str\u001b[38;5;132;01m}\u001b[39;00m\u001b[33m failed.\u001b[39m\u001b[33m\"\u001b[39m)\n",
      "\u001b[31mAssertionError\u001b[39m: Metrics: Correctness [GEval] (score: 0.5970535200706688, threshold: 0.6, strict: False, error: None, reason: The actual output correctly identifies chlorophyll breakdown as the main reason for leaves changing color, aligning with the expected output's main point. However, it omits the detail that other pigments are revealed when chlorophyll fades, which is a key component in the expected output. There are no significant inaccuracies, but the omission of the role of other pigments prevents a higher score.) failed."
     ]
    }
   ],
   "source": [
    "from deepeval.test_case import LLMTestCase, LLMTestCaseParams\n",
    "from deepeval import assert_test\n",
    "from deepeval.metrics import GEval \n",
    "test_case = LLMTestCase(\n",
    "    input=\"Why do leaves change color in autumn?\",\n",
    "    actual_output=\"Leaves change color in autumn due to chlorophyll breakdown.\",\n",
    "    expected_output=\"Leaves change color because chlorophyll fades, revealing other pigments.\"\n",
    ")\n",
    "\n",
    "correctness_metric = GEval(\n",
    "    name=\"Correctness\",\n",
    "    criteria=\"Determine if the actual_output correctly and completely explains why leaves change color in autumn based on the expected_output.\",\n",
    "    evaluation_params=[LLMTestCaseParams.ACTUAL_OUTPUT, LLMTestCaseParams.EXPECTED_OUTPUT],\n",
    "    threshold=0.6\n",
    ")\n",
    "\n",
    "assert_test(test_case, [correctness_metric])"
   ]
  },
  {
   "cell_type": "code",
   "execution_count": 5,
   "id": "6d6d3b1f",
   "metadata": {},
   "outputs": [
    {
     "data": {
      "application/vnd.jupyter.widget-view+json": {
       "model_id": "158f1f37d1c042dda50e6bdf41acd030",
       "version_major": 2,
       "version_minor": 0
      },
      "text/plain": [
       "Output()"
      ]
     },
     "metadata": {},
     "output_type": "display_data"
    },
    {
     "data": {
      "text/html": [
       "<pre style=\"white-space:pre;overflow-x:auto;line-height:normal;font-family:Menlo,'DejaVu Sans Mono',consolas,'Courier New',monospace\"></pre>\n"
      ],
      "text/plain": []
     },
     "metadata": {},
     "output_type": "display_data"
    },
    {
     "ename": "AssertionError",
     "evalue": "Metrics: Correctness [GEval] (score: 0.40293624525784616, threshold: 0.7, strict: False, error: None, reason: The Actual Output correctly identifies chlorophyll breakdown as the reason for leaves changing color, aligning with the Expected Output's mention of chlorophyll fading. However, it omits the explanation that other pigments are revealed, and does not mention carotenoids, anthocyanins, or environmental triggers like temperature and daylight changes. The explanation is less complete and lacks clarity compared to the Expected Output.) failed.",
     "output_type": "error",
     "traceback": [
      "\u001b[31m---------------------------------------------------------------------------\u001b[39m",
      "\u001b[31mAssertionError\u001b[39m                            Traceback (most recent call last)",
      "\u001b[36mCell\u001b[39m\u001b[36m \u001b[39m\u001b[32mIn[5]\u001b[39m\u001b[32m, line 24\u001b[39m\n\u001b[32m     16\u001b[39m relevancy = AnswerRelevancyMetric(threshold=\u001b[32m0.7\u001b[39m)\n\u001b[32m     17\u001b[39m correctness = GEval(\n\u001b[32m     18\u001b[39m     name=\u001b[33m\"\u001b[39m\u001b[33mCorrectness\u001b[39m\u001b[33m\"\u001b[39m,\n\u001b[32m     19\u001b[39m     criteria=\u001b[33m\"\u001b[39m\u001b[33mDoes the answer correctly and completely explain why leaves change color in autumn?\u001b[39m\u001b[33m\"\u001b[39m,\n\u001b[32m     20\u001b[39m     evaluation_params=[LLMTestCaseParams.ACTUAL_OUTPUT, LLMTestCaseParams.EXPECTED_OUTPUT],\n\u001b[32m     21\u001b[39m     threshold=\u001b[32m0.7\u001b[39m\n\u001b[32m     22\u001b[39m )\n\u001b[32m---> \u001b[39m\u001b[32m24\u001b[39m \u001b[43massert_test\u001b[49m\u001b[43m(\u001b[49m\u001b[43mtest_case\u001b[49m\u001b[43m,\u001b[49m\u001b[43m \u001b[49m\u001b[43m[\u001b[49m\u001b[43mfaithfulness\u001b[49m\u001b[43m,\u001b[49m\u001b[43m \u001b[49m\u001b[43mprecision\u001b[49m\u001b[43m,\u001b[49m\u001b[43m \u001b[49m\u001b[43mrecall\u001b[49m\u001b[43m,\u001b[49m\u001b[43m \u001b[49m\u001b[43mrelevancy\u001b[49m\u001b[43m,\u001b[49m\u001b[43m \u001b[49m\u001b[43mcorrectness\u001b[49m\u001b[43m]\u001b[49m\u001b[43m)\u001b[49m\n",
      "\u001b[36mFile \u001b[39m\u001b[32m~/local_dev/ai-eval-notebooks-playpen/.venv/lib/python3.13/site-packages/deepeval/evaluate/evaluate.py:169\u001b[39m, in \u001b[36massert_test\u001b[39m\u001b[34m(test_case, metrics, golden, observed_callback, run_async)\u001b[39m\n\u001b[32m    161\u001b[39m             failed_metrics_data.append(metric_data)\n\u001b[32m    163\u001b[39m failed_metrics_str = \u001b[33m\"\u001b[39m\u001b[33m, \u001b[39m\u001b[33m\"\u001b[39m.join(\n\u001b[32m    164\u001b[39m     [\n\u001b[32m    165\u001b[39m         \u001b[33mf\u001b[39m\u001b[33m\"\u001b[39m\u001b[38;5;132;01m{\u001b[39;00mmetrics_data.name\u001b[38;5;132;01m}\u001b[39;00m\u001b[33m (score: \u001b[39m\u001b[38;5;132;01m{\u001b[39;00mmetrics_data.score\u001b[38;5;132;01m}\u001b[39;00m\u001b[33m, threshold: \u001b[39m\u001b[38;5;132;01m{\u001b[39;00mmetrics_data.threshold\u001b[38;5;132;01m}\u001b[39;00m\u001b[33m, strict: \u001b[39m\u001b[38;5;132;01m{\u001b[39;00mmetrics_data.strict_mode\u001b[38;5;132;01m}\u001b[39;00m\u001b[33m, error: \u001b[39m\u001b[38;5;132;01m{\u001b[39;00mmetrics_data.error\u001b[38;5;132;01m}\u001b[39;00m\u001b[33m, reason: \u001b[39m\u001b[38;5;132;01m{\u001b[39;00mmetrics_data.reason\u001b[38;5;132;01m}\u001b[39;00m\u001b[33m)\u001b[39m\u001b[33m\"\u001b[39m\n\u001b[32m    166\u001b[39m         \u001b[38;5;28;01mfor\u001b[39;00m metrics_data \u001b[38;5;129;01min\u001b[39;00m failed_metrics_data\n\u001b[32m    167\u001b[39m     ]\n\u001b[32m    168\u001b[39m )\n\u001b[32m--> \u001b[39m\u001b[32m169\u001b[39m \u001b[38;5;28;01mraise\u001b[39;00m \u001b[38;5;167;01mAssertionError\u001b[39;00m(\u001b[33mf\u001b[39m\u001b[33m\"\u001b[39m\u001b[33mMetrics: \u001b[39m\u001b[38;5;132;01m{\u001b[39;00mfailed_metrics_str\u001b[38;5;132;01m}\u001b[39;00m\u001b[33m failed.\u001b[39m\u001b[33m\"\u001b[39m)\n",
      "\u001b[31mAssertionError\u001b[39m: Metrics: Correctness [GEval] (score: 0.40293624525784616, threshold: 0.7, strict: False, error: None, reason: The Actual Output correctly identifies chlorophyll breakdown as the reason for leaves changing color, aligning with the Expected Output's mention of chlorophyll fading. However, it omits the explanation that other pigments are revealed, and does not mention carotenoids, anthocyanins, or environmental triggers like temperature and daylight changes. The explanation is less complete and lacks clarity compared to the Expected Output.) failed."
     ]
    }
   ],
   "source": [
    "\n",
    "from deepeval import assert_test\n",
    "\n",
    "test_case = LLMTestCase(\n",
    "    input=\"Why do leaves change color in autumn?\",\n",
    "    actual_output=\"Leaves change color in autumn due to chlorophyll breakdown.\",\n",
    "    expected_output=\"Leaves change color because chlorophyll fades, revealing other pigments.\",\n",
    "    retrieval_context=[\n",
    "        \"In autumn, cooler temperatures and shorter days reduce chlorophyll production.\",\n",
    "        \"As chlorophyll breaks down, yellows and reds become visible.\"\n",
    "    ]\n",
    ")\n",
    "\n",
    "faithfulness = FaithfulnessMetric(threshold=0.8)\n",
    "precision = ContextualPrecisionMetric(threshold=0.7)\n",
    "recall = ContextualRecallMetric(threshold=0.7)\n",
    "relevancy = AnswerRelevancyMetric(threshold=0.7)\n",
    "correctness = GEval(\n",
    "    name=\"Correctness\",\n",
    "    criteria=\"Does the answer correctly and completely explain why leaves change color in autumn?\",\n",
    "    evaluation_params=[LLMTestCaseParams.ACTUAL_OUTPUT, LLMTestCaseParams.EXPECTED_OUTPUT],\n",
    "    threshold=0.7\n",
    ")\n",
    "\n",
    "assert_test(test_case, [faithfulness, precision, recall, relevancy, correctness])\n"
   ]
  }
 ],
 "metadata": {
  "kernelspec": {
   "display_name": ".venv",
   "language": "python",
   "name": "python3"
  },
  "language_info": {
   "codemirror_mode": {
    "name": "ipython",
    "version": 3
   },
   "file_extension": ".py",
   "mimetype": "text/x-python",
   "name": "python",
   "nbconvert_exporter": "python",
   "pygments_lexer": "ipython3",
   "version": "3.13.4"
  }
 },
 "nbformat": 4,
 "nbformat_minor": 5
}
