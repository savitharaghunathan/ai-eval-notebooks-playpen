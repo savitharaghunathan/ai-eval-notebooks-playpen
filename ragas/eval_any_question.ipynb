{
 "cells": [
  {
   "cell_type": "code",
   "execution_count": null,
   "id": "dc6e6e78",
   "metadata": {},
   "outputs": [
    {
     "name": "stdout",
     "output_type": "stream",
     "text": [
      "Requirement already satisfied: ragas in /Users/sraghuna/local_dev/ai-eval-notebooks-playpen/.venv/lib/python3.13/site-packages (0.2.15)\n",
      "Requirement already satisfied: datasets in /Users/sraghuna/local_dev/ai-eval-notebooks-playpen/.venv/lib/python3.13/site-packages (4.0.0)\n",
      "Requirement already satisfied: python-dotenv in /Users/sraghuna/local_dev/ai-eval-notebooks-playpen/.venv/lib/python3.13/site-packages (1.1.1)\n",
      "Requirement already satisfied: ipywidgets in /Users/sraghuna/local_dev/ai-eval-notebooks-playpen/.venv/lib/python3.13/site-packages (8.1.7)\n",
      "Requirement already satisfied: numpy in /Users/sraghuna/local_dev/ai-eval-notebooks-playpen/.venv/lib/python3.13/site-packages (from ragas) (2.3.1)\n",
      "Requirement already satisfied: tiktoken in /Users/sraghuna/local_dev/ai-eval-notebooks-playpen/.venv/lib/python3.13/site-packages (from ragas) (0.9.0)\n",
      "Requirement already satisfied: langchain in /Users/sraghuna/local_dev/ai-eval-notebooks-playpen/.venv/lib/python3.13/site-packages (from ragas) (0.3.26)\n",
      "Requirement already satisfied: langchain-core in /Users/sraghuna/local_dev/ai-eval-notebooks-playpen/.venv/lib/python3.13/site-packages (from ragas) (0.3.68)\n",
      "Requirement already satisfied: langchain-community in /Users/sraghuna/local_dev/ai-eval-notebooks-playpen/.venv/lib/python3.13/site-packages (from ragas) (0.3.27)\n",
      "Requirement already satisfied: langchain_openai in /Users/sraghuna/local_dev/ai-eval-notebooks-playpen/.venv/lib/python3.13/site-packages (from ragas) (0.3.27)\n",
      "Requirement already satisfied: nest-asyncio in /Users/sraghuna/local_dev/ai-eval-notebooks-playpen/.venv/lib/python3.13/site-packages (from ragas) (1.6.0)\n",
      "Requirement already satisfied: appdirs in /Users/sraghuna/local_dev/ai-eval-notebooks-playpen/.venv/lib/python3.13/site-packages (from ragas) (1.4.4)\n",
      "Requirement already satisfied: pydantic>=2 in /Users/sraghuna/local_dev/ai-eval-notebooks-playpen/.venv/lib/python3.13/site-packages (from ragas) (2.11.7)\n",
      "Requirement already satisfied: openai>1 in /Users/sraghuna/local_dev/ai-eval-notebooks-playpen/.venv/lib/python3.13/site-packages (from ragas) (1.95.0)\n",
      "Requirement already satisfied: diskcache>=5.6.3 in /Users/sraghuna/local_dev/ai-eval-notebooks-playpen/.venv/lib/python3.13/site-packages (from ragas) (5.6.3)\n",
      "Requirement already satisfied: filelock in /Users/sraghuna/local_dev/ai-eval-notebooks-playpen/.venv/lib/python3.13/site-packages (from datasets) (3.18.0)\n",
      "Requirement already satisfied: pyarrow>=15.0.0 in /Users/sraghuna/local_dev/ai-eval-notebooks-playpen/.venv/lib/python3.13/site-packages (from datasets) (20.0.0)\n",
      "Requirement already satisfied: dill<0.3.9,>=0.3.0 in /Users/sraghuna/local_dev/ai-eval-notebooks-playpen/.venv/lib/python3.13/site-packages (from datasets) (0.3.8)\n",
      "Requirement already satisfied: pandas in /Users/sraghuna/local_dev/ai-eval-notebooks-playpen/.venv/lib/python3.13/site-packages (from datasets) (2.3.1)\n",
      "Requirement already satisfied: requests>=2.32.2 in /Users/sraghuna/local_dev/ai-eval-notebooks-playpen/.venv/lib/python3.13/site-packages (from datasets) (2.32.4)\n",
      "Requirement already satisfied: tqdm>=4.66.3 in /Users/sraghuna/local_dev/ai-eval-notebooks-playpen/.venv/lib/python3.13/site-packages (from datasets) (4.67.1)\n",
      "Requirement already satisfied: xxhash in /Users/sraghuna/local_dev/ai-eval-notebooks-playpen/.venv/lib/python3.13/site-packages (from datasets) (3.5.0)\n",
      "Requirement already satisfied: multiprocess<0.70.17 in /Users/sraghuna/local_dev/ai-eval-notebooks-playpen/.venv/lib/python3.13/site-packages (from datasets) (0.70.16)\n",
      "Requirement already satisfied: fsspec<=2025.3.0,>=2023.1.0 in /Users/sraghuna/local_dev/ai-eval-notebooks-playpen/.venv/lib/python3.13/site-packages (from fsspec[http]<=2025.3.0,>=2023.1.0->datasets) (2025.3.0)\n",
      "Requirement already satisfied: huggingface-hub>=0.24.0 in /Users/sraghuna/local_dev/ai-eval-notebooks-playpen/.venv/lib/python3.13/site-packages (from datasets) (0.33.2)\n",
      "Requirement already satisfied: packaging in /Users/sraghuna/local_dev/ai-eval-notebooks-playpen/.venv/lib/python3.13/site-packages (from datasets) (24.2)\n",
      "Requirement already satisfied: pyyaml>=5.1 in /Users/sraghuna/local_dev/ai-eval-notebooks-playpen/.venv/lib/python3.13/site-packages (from datasets) (6.0.2)\n",
      "Requirement already satisfied: aiohttp!=4.0.0a0,!=4.0.0a1 in /Users/sraghuna/local_dev/ai-eval-notebooks-playpen/.venv/lib/python3.13/site-packages (from fsspec[http]<=2025.3.0,>=2023.1.0->datasets) (3.12.14)\n",
      "Requirement already satisfied: comm>=0.1.3 in /Users/sraghuna/local_dev/ai-eval-notebooks-playpen/.venv/lib/python3.13/site-packages (from ipywidgets) (0.2.2)\n",
      "Requirement already satisfied: ipython>=6.1.0 in /Users/sraghuna/local_dev/ai-eval-notebooks-playpen/.venv/lib/python3.13/site-packages (from ipywidgets) (9.4.0)\n",
      "Requirement already satisfied: traitlets>=4.3.1 in /Users/sraghuna/local_dev/ai-eval-notebooks-playpen/.venv/lib/python3.13/site-packages (from ipywidgets) (5.14.3)\n",
      "Requirement already satisfied: widgetsnbextension~=4.0.14 in /Users/sraghuna/local_dev/ai-eval-notebooks-playpen/.venv/lib/python3.13/site-packages (from ipywidgets) (4.0.14)\n",
      "Requirement already satisfied: jupyterlab_widgets~=3.0.15 in /Users/sraghuna/local_dev/ai-eval-notebooks-playpen/.venv/lib/python3.13/site-packages (from ipywidgets) (3.0.15)\n",
      "Requirement already satisfied: aiohappyeyeballs>=2.5.0 in /Users/sraghuna/local_dev/ai-eval-notebooks-playpen/.venv/lib/python3.13/site-packages (from aiohttp!=4.0.0a0,!=4.0.0a1->fsspec[http]<=2025.3.0,>=2023.1.0->datasets) (2.6.1)\n",
      "Requirement already satisfied: aiosignal>=1.4.0 in /Users/sraghuna/local_dev/ai-eval-notebooks-playpen/.venv/lib/python3.13/site-packages (from aiohttp!=4.0.0a0,!=4.0.0a1->fsspec[http]<=2025.3.0,>=2023.1.0->datasets) (1.4.0)\n",
      "Requirement already satisfied: attrs>=17.3.0 in /Users/sraghuna/local_dev/ai-eval-notebooks-playpen/.venv/lib/python3.13/site-packages (from aiohttp!=4.0.0a0,!=4.0.0a1->fsspec[http]<=2025.3.0,>=2023.1.0->datasets) (25.3.0)\n",
      "Requirement already satisfied: frozenlist>=1.1.1 in /Users/sraghuna/local_dev/ai-eval-notebooks-playpen/.venv/lib/python3.13/site-packages (from aiohttp!=4.0.0a0,!=4.0.0a1->fsspec[http]<=2025.3.0,>=2023.1.0->datasets) (1.7.0)\n",
      "Requirement already satisfied: multidict<7.0,>=4.5 in /Users/sraghuna/local_dev/ai-eval-notebooks-playpen/.venv/lib/python3.13/site-packages (from aiohttp!=4.0.0a0,!=4.0.0a1->fsspec[http]<=2025.3.0,>=2023.1.0->datasets) (6.6.3)\n",
      "Requirement already satisfied: propcache>=0.2.0 in /Users/sraghuna/local_dev/ai-eval-notebooks-playpen/.venv/lib/python3.13/site-packages (from aiohttp!=4.0.0a0,!=4.0.0a1->fsspec[http]<=2025.3.0,>=2023.1.0->datasets) (0.3.2)\n",
      "Requirement already satisfied: yarl<2.0,>=1.17.0 in /Users/sraghuna/local_dev/ai-eval-notebooks-playpen/.venv/lib/python3.13/site-packages (from aiohttp!=4.0.0a0,!=4.0.0a1->fsspec[http]<=2025.3.0,>=2023.1.0->datasets) (1.20.1)\n",
      "Requirement already satisfied: idna>=2.0 in /Users/sraghuna/local_dev/ai-eval-notebooks-playpen/.venv/lib/python3.13/site-packages (from yarl<2.0,>=1.17.0->aiohttp!=4.0.0a0,!=4.0.0a1->fsspec[http]<=2025.3.0,>=2023.1.0->datasets) (3.10)\n",
      "Requirement already satisfied: typing-extensions>=3.7.4.3 in /Users/sraghuna/local_dev/ai-eval-notebooks-playpen/.venv/lib/python3.13/site-packages (from huggingface-hub>=0.24.0->datasets) (4.14.1)\n",
      "Requirement already satisfied: hf-xet<2.0.0,>=1.1.2 in /Users/sraghuna/local_dev/ai-eval-notebooks-playpen/.venv/lib/python3.13/site-packages (from huggingface-hub>=0.24.0->datasets) (1.1.5)\n",
      "Requirement already satisfied: decorator in /Users/sraghuna/local_dev/ai-eval-notebooks-playpen/.venv/lib/python3.13/site-packages (from ipython>=6.1.0->ipywidgets) (5.2.1)\n",
      "Requirement already satisfied: ipython-pygments-lexers in /Users/sraghuna/local_dev/ai-eval-notebooks-playpen/.venv/lib/python3.13/site-packages (from ipython>=6.1.0->ipywidgets) (1.1.1)\n",
      "Requirement already satisfied: jedi>=0.16 in /Users/sraghuna/local_dev/ai-eval-notebooks-playpen/.venv/lib/python3.13/site-packages (from ipython>=6.1.0->ipywidgets) (0.19.2)\n",
      "Requirement already satisfied: matplotlib-inline in /Users/sraghuna/local_dev/ai-eval-notebooks-playpen/.venv/lib/python3.13/site-packages (from ipython>=6.1.0->ipywidgets) (0.1.7)\n",
      "Requirement already satisfied: pexpect>4.3 in /Users/sraghuna/local_dev/ai-eval-notebooks-playpen/.venv/lib/python3.13/site-packages (from ipython>=6.1.0->ipywidgets) (4.9.0)\n",
      "Requirement already satisfied: prompt_toolkit<3.1.0,>=3.0.41 in /Users/sraghuna/local_dev/ai-eval-notebooks-playpen/.venv/lib/python3.13/site-packages (from ipython>=6.1.0->ipywidgets) (3.0.51)\n",
      "Requirement already satisfied: pygments>=2.4.0 in /Users/sraghuna/local_dev/ai-eval-notebooks-playpen/.venv/lib/python3.13/site-packages (from ipython>=6.1.0->ipywidgets) (2.19.2)\n",
      "Requirement already satisfied: stack_data in /Users/sraghuna/local_dev/ai-eval-notebooks-playpen/.venv/lib/python3.13/site-packages (from ipython>=6.1.0->ipywidgets) (0.6.3)\n",
      "Requirement already satisfied: wcwidth in /Users/sraghuna/local_dev/ai-eval-notebooks-playpen/.venv/lib/python3.13/site-packages (from prompt_toolkit<3.1.0,>=3.0.41->ipython>=6.1.0->ipywidgets) (0.2.13)\n",
      "Requirement already satisfied: parso<0.9.0,>=0.8.4 in /Users/sraghuna/local_dev/ai-eval-notebooks-playpen/.venv/lib/python3.13/site-packages (from jedi>=0.16->ipython>=6.1.0->ipywidgets) (0.8.4)\n",
      "Requirement already satisfied: anyio<5,>=3.5.0 in /Users/sraghuna/local_dev/ai-eval-notebooks-playpen/.venv/lib/python3.13/site-packages (from openai>1->ragas) (4.9.0)\n",
      "Requirement already satisfied: distro<2,>=1.7.0 in /Users/sraghuna/local_dev/ai-eval-notebooks-playpen/.venv/lib/python3.13/site-packages (from openai>1->ragas) (1.9.0)\n",
      "Requirement already satisfied: httpx<1,>=0.23.0 in /Users/sraghuna/local_dev/ai-eval-notebooks-playpen/.venv/lib/python3.13/site-packages (from openai>1->ragas) (0.28.1)\n",
      "Requirement already satisfied: jiter<1,>=0.4.0 in /Users/sraghuna/local_dev/ai-eval-notebooks-playpen/.venv/lib/python3.13/site-packages (from openai>1->ragas) (0.10.0)\n",
      "Requirement already satisfied: sniffio in /Users/sraghuna/local_dev/ai-eval-notebooks-playpen/.venv/lib/python3.13/site-packages (from openai>1->ragas) (1.3.1)\n",
      "Requirement already satisfied: certifi in /Users/sraghuna/local_dev/ai-eval-notebooks-playpen/.venv/lib/python3.13/site-packages (from httpx<1,>=0.23.0->openai>1->ragas) (2025.7.9)\n",
      "Requirement already satisfied: httpcore==1.* in /Users/sraghuna/local_dev/ai-eval-notebooks-playpen/.venv/lib/python3.13/site-packages (from httpx<1,>=0.23.0->openai>1->ragas) (1.0.9)\n",
      "Requirement already satisfied: h11>=0.16 in /Users/sraghuna/local_dev/ai-eval-notebooks-playpen/.venv/lib/python3.13/site-packages (from httpcore==1.*->httpx<1,>=0.23.0->openai>1->ragas) (0.16.0)\n",
      "Requirement already satisfied: annotated-types>=0.6.0 in /Users/sraghuna/local_dev/ai-eval-notebooks-playpen/.venv/lib/python3.13/site-packages (from pydantic>=2->ragas) (0.7.0)\n",
      "Requirement already satisfied: pydantic-core==2.33.2 in /Users/sraghuna/local_dev/ai-eval-notebooks-playpen/.venv/lib/python3.13/site-packages (from pydantic>=2->ragas) (2.33.2)\n",
      "Requirement already satisfied: typing-inspection>=0.4.0 in /Users/sraghuna/local_dev/ai-eval-notebooks-playpen/.venv/lib/python3.13/site-packages (from pydantic>=2->ragas) (0.4.1)\n",
      "Requirement already satisfied: ptyprocess>=0.5 in /Users/sraghuna/local_dev/ai-eval-notebooks-playpen/.venv/lib/python3.13/site-packages (from pexpect>4.3->ipython>=6.1.0->ipywidgets) (0.7.0)\n",
      "Requirement already satisfied: charset_normalizer<4,>=2 in /Users/sraghuna/local_dev/ai-eval-notebooks-playpen/.venv/lib/python3.13/site-packages (from requests>=2.32.2->datasets) (3.4.2)\n",
      "Requirement already satisfied: urllib3<3,>=1.21.1 in /Users/sraghuna/local_dev/ai-eval-notebooks-playpen/.venv/lib/python3.13/site-packages (from requests>=2.32.2->datasets) (2.5.0)\n",
      "Requirement already satisfied: langchain-text-splitters<1.0.0,>=0.3.8 in /Users/sraghuna/local_dev/ai-eval-notebooks-playpen/.venv/lib/python3.13/site-packages (from langchain->ragas) (0.3.8)\n",
      "Requirement already satisfied: langsmith>=0.1.17 in /Users/sraghuna/local_dev/ai-eval-notebooks-playpen/.venv/lib/python3.13/site-packages (from langchain->ragas) (0.4.4)\n",
      "Requirement already satisfied: SQLAlchemy<3,>=1.4 in /Users/sraghuna/local_dev/ai-eval-notebooks-playpen/.venv/lib/python3.13/site-packages (from langchain->ragas) (2.0.41)\n",
      "Requirement already satisfied: tenacity!=8.4.0,<10.0.0,>=8.1.0 in /Users/sraghuna/local_dev/ai-eval-notebooks-playpen/.venv/lib/python3.13/site-packages (from langchain-core->ragas) (9.1.2)\n",
      "Requirement already satisfied: jsonpatch<2.0,>=1.33 in /Users/sraghuna/local_dev/ai-eval-notebooks-playpen/.venv/lib/python3.13/site-packages (from langchain-core->ragas) (1.33)\n",
      "Requirement already satisfied: jsonpointer>=1.9 in /Users/sraghuna/local_dev/ai-eval-notebooks-playpen/.venv/lib/python3.13/site-packages (from jsonpatch<2.0,>=1.33->langchain-core->ragas) (3.0.0)\n",
      "Requirement already satisfied: orjson<4.0.0,>=3.9.14 in /Users/sraghuna/local_dev/ai-eval-notebooks-playpen/.venv/lib/python3.13/site-packages (from langsmith>=0.1.17->langchain->ragas) (3.10.18)\n",
      "Requirement already satisfied: requests-toolbelt<2.0.0,>=1.0.0 in /Users/sraghuna/local_dev/ai-eval-notebooks-playpen/.venv/lib/python3.13/site-packages (from langsmith>=0.1.17->langchain->ragas) (1.0.0)\n",
      "Requirement already satisfied: zstandard<0.24.0,>=0.23.0 in /Users/sraghuna/local_dev/ai-eval-notebooks-playpen/.venv/lib/python3.13/site-packages (from langsmith>=0.1.17->langchain->ragas) (0.23.0)\n",
      "Requirement already satisfied: dataclasses-json<0.7,>=0.5.7 in /Users/sraghuna/local_dev/ai-eval-notebooks-playpen/.venv/lib/python3.13/site-packages (from langchain-community->ragas) (0.6.7)\n",
      "Requirement already satisfied: pydantic-settings<3.0.0,>=2.4.0 in /Users/sraghuna/local_dev/ai-eval-notebooks-playpen/.venv/lib/python3.13/site-packages (from langchain-community->ragas) (2.10.1)\n",
      "Requirement already satisfied: httpx-sse<1.0.0,>=0.4.0 in /Users/sraghuna/local_dev/ai-eval-notebooks-playpen/.venv/lib/python3.13/site-packages (from langchain-community->ragas) (0.4.1)\n",
      "Requirement already satisfied: marshmallow<4.0.0,>=3.18.0 in /Users/sraghuna/local_dev/ai-eval-notebooks-playpen/.venv/lib/python3.13/site-packages (from dataclasses-json<0.7,>=0.5.7->langchain-community->ragas) (3.26.1)\n",
      "Requirement already satisfied: typing-inspect<1,>=0.4.0 in /Users/sraghuna/local_dev/ai-eval-notebooks-playpen/.venv/lib/python3.13/site-packages (from dataclasses-json<0.7,>=0.5.7->langchain-community->ragas) (0.9.0)\n",
      "Requirement already satisfied: mypy-extensions>=0.3.0 in /Users/sraghuna/local_dev/ai-eval-notebooks-playpen/.venv/lib/python3.13/site-packages (from typing-inspect<1,>=0.4.0->dataclasses-json<0.7,>=0.5.7->langchain-community->ragas) (1.1.0)\n",
      "Requirement already satisfied: regex>=2022.1.18 in /Users/sraghuna/local_dev/ai-eval-notebooks-playpen/.venv/lib/python3.13/site-packages (from tiktoken->ragas) (2024.11.6)\n",
      "Requirement already satisfied: python-dateutil>=2.8.2 in /Users/sraghuna/local_dev/ai-eval-notebooks-playpen/.venv/lib/python3.13/site-packages (from pandas->datasets) (2.9.0.post0)\n",
      "Requirement already satisfied: pytz>=2020.1 in /Users/sraghuna/local_dev/ai-eval-notebooks-playpen/.venv/lib/python3.13/site-packages (from pandas->datasets) (2025.2)\n",
      "Requirement already satisfied: tzdata>=2022.7 in /Users/sraghuna/local_dev/ai-eval-notebooks-playpen/.venv/lib/python3.13/site-packages (from pandas->datasets) (2025.2)\n",
      "Requirement already satisfied: six>=1.5 in /Users/sraghuna/local_dev/ai-eval-notebooks-playpen/.venv/lib/python3.13/site-packages (from python-dateutil>=2.8.2->pandas->datasets) (1.17.0)\n",
      "Requirement already satisfied: executing>=1.2.0 in /Users/sraghuna/local_dev/ai-eval-notebooks-playpen/.venv/lib/python3.13/site-packages (from stack_data->ipython>=6.1.0->ipywidgets) (2.2.0)\n",
      "Requirement already satisfied: asttokens>=2.1.0 in /Users/sraghuna/local_dev/ai-eval-notebooks-playpen/.venv/lib/python3.13/site-packages (from stack_data->ipython>=6.1.0->ipywidgets) (3.0.0)\n",
      "Requirement already satisfied: pure-eval in /Users/sraghuna/local_dev/ai-eval-notebooks-playpen/.venv/lib/python3.13/site-packages (from stack_data->ipython>=6.1.0->ipywidgets) (0.2.3)\n",
      "Note: you may need to restart the kernel to use updated packages.\n"
     ]
    },
    {
     "data": {
      "application/vnd.jupyter.widget-view+json": {
       "model_id": "3b1000a1d9fb456e9a7d9e78122892d3",
       "version_major": 2,
       "version_minor": 0
      },
      "text/plain": [
       "Textarea(value='', description='Question:', layout=Layout(height='50px', width='100%'), placeholder='Type the …"
      ]
     },
     "metadata": {},
     "output_type": "display_data"
    },
    {
     "data": {
      "application/vnd.jupyter.widget-view+json": {
       "model_id": "500f8640c1344d97a166c87a70815ced",
       "version_major": 2,
       "version_minor": 0
      },
      "text/plain": [
       "Textarea(value='', description='Response:', layout=Layout(height='50px', width='100%'), placeholder='Type the …"
      ]
     },
     "metadata": {},
     "output_type": "display_data"
    },
    {
     "data": {
      "application/vnd.jupyter.widget-view+json": {
       "model_id": "3df18028b9d74f0aaa493fd4de533bd2",
       "version_major": 2,
       "version_minor": 0
      },
      "text/plain": [
       "Button(button_style='success', description='Run Evaluation', style=ButtonStyle())"
      ]
     },
     "metadata": {},
     "output_type": "display_data"
    },
    {
     "data": {
      "application/vnd.jupyter.widget-view+json": {
       "model_id": "e32538999f5544d6bfa87d0bb811394e",
       "version_major": 2,
       "version_minor": 0
      },
      "text/plain": [
       "Output()"
      ]
     },
     "metadata": {},
     "output_type": "display_data"
    }
   ],
   "source": [
    "\n",
    "%pip install ragas datasets python-dotenv ipywidgets\n",
    "\n",
    "\n",
    "from dotenv import load_dotenv\n",
    "import os\n",
    "from datasets import Dataset\n",
    "from ragas import evaluate\n",
    "from ragas.metrics import faithfulness, context_precision, context_recall, answer_relevancy\n",
    "import ipywidgets as widgets\n",
    "from IPython.display import display, clear_output\n",
    "\n",
    "# Load API key\n",
    "load_dotenv()\n",
    "if not os.getenv(\"OPENAI_API_KEY\"):\n",
    "    raise ValueError(\"OPENAI_API_KEY not found in .env file. Please create one with OPENAI_API_KEY=sk-...\")\n",
    "\n",
    "\n",
    "question_widget = widgets.Textarea(\n",
    "    value='',\n",
    "    placeholder='Type the question here...',\n",
    "    description='Question:',\n",
    "    layout=widgets.Layout(width='100%', height='50px')\n",
    ")\n",
    "\n",
    "response_widget = widgets.Textarea(\n",
    "    value='',\n",
    "    placeholder='Type the LLM response here...',\n",
    "    description='Response:',\n",
    "    layout=widgets.Layout(width='100%', height='50px')\n",
    ")\n",
    "\n",
    "run_button = widgets.Button(description=\"Run Evaluation\", button_style='success')\n",
    "output = widgets.Output()\n",
    "\n",
    "def on_button_clicked(b):\n",
    "    with output:\n",
    "        clear_output()\n",
    "        \n",
    "        question = question_widget.value.strip()\n",
    "        response = response_widget.value.strip()\n",
    "        \n",
    "        if not question or not response:\n",
    "            print(\"❌ Please provide both question and LLM response.\")\n",
    "            return\n",
    "        \n",
    "        # Use the response as a pseudo-context and ground truth\n",
    "        context = response\n",
    "        ground_truth = response\n",
    "        \n",
    "        print(\"[📝 INPUT SUMMARY]\")\n",
    "        print(f\"Question:     {question}\")\n",
    "        print(f\"Context:      {context}\")\n",
    "        print(f\"Response:     {response}\")\n",
    "        print(f\"Ground Truth: {ground_truth}\")\n",
    "        \n",
    "        # Prepare data\n",
    "        ragas_data = Dataset.from_dict({\n",
    "            \"question\": [question],\n",
    "            \"contexts\": [[context]],\n",
    "            \"answer\": [response],\n",
    "            \"ground_truths\": [[ground_truth]],\n",
    "            \"reference\": [ground_truth]\n",
    "        })\n",
    "        \n",
    "        # Evaluate\n",
    "        results = evaluate(\n",
    "            ragas_data,\n",
    "            metrics=[faithfulness, context_precision, context_recall, answer_relevancy],\n",
    "            column_map={\n",
    "                \"question\": \"question\",\n",
    "                \"contexts\": \"contexts\",\n",
    "                \"answer\": \"answer\",\n",
    "                \"ground_truths\": \"ground_truths\",\n",
    "                \"reference\": \"reference\"\n",
    "            }\n",
    "        )\n",
    "\n",
    "        print(\"\\n=== AUTO-EVALUATION RESULTS ===\")\n",
    "        print(results.scores)\n",
    "run_button.on_click(on_button_clicked)\n",
    "display(question_widget, response_widget, run_button, output)\n"
   ]
  },
  {
   "cell_type": "code",
   "execution_count": null,
   "id": "456e0461",
   "metadata": {},
   "outputs": [
    {
     "data": {
      "application/vnd.jupyter.widget-view+json": {
       "model_id": "542510cc9c6f46b69c0f6c2af4d94c45",
       "version_major": 2,
       "version_minor": 0
      },
      "text/plain": [
       "Evaluating:   0%|          | 0/4 [00:00<?, ?it/s]"
      ]
     },
     "metadata": {},
     "output_type": "display_data"
    },
    {
     "name": "stdout",
     "output_type": "stream",
     "text": [
      "\n",
      "=== AUTO-EVALUATION RESULTS ===\n",
      "[{'faithfulness': 1.0, 'context_precision': 0.9999999999, 'context_recall': 1.0, 'answer_relevancy': np.float64(0.0)}]\n"
     ]
    }
   ],
   "source": [
    "\n",
    "from dotenv import load_dotenv\n",
    "import os\n",
    "from datasets import Dataset\n",
    "from ragas import evaluate\n",
    "from ragas.metrics import faithfulness, context_precision, context_recall, answer_relevancy\n",
    "\n",
    "load_dotenv()\n",
    "if not os.getenv(\"OPENAI_API_KEY\"):\n",
    "    raise ValueError(\"OPENAI_API_KEY not found in .env file.\")\n",
    "\n",
    "\n",
    "question = input(\"Type your question: \").strip()\n",
    "response = input(\"Type the LLM response: \").strip()\n",
    "\n",
    "#  use response as context & ground truth\n",
    "context = response\n",
    "ground_truth = response\n",
    "\n",
    "# Run eval\n",
    "ragas_data = Dataset.from_dict({\n",
    "    \"question\": [question],\n",
    "    \"contexts\": [[context]],\n",
    "    \"answer\": [response],\n",
    "    \"ground_truths\": [[ground_truth]],\n",
    "    \"reference\": [ground_truth]\n",
    "})\n",
    "\n",
    "results = evaluate(\n",
    "    ragas_data,\n",
    "    metrics=[faithfulness, context_precision, context_recall, answer_relevancy],\n",
    "    column_map={\n",
    "        \"question\": \"question\",\n",
    "        \"contexts\": \"contexts\",\n",
    "        \"answer\": \"answer\",\n",
    "        \"ground_truths\": \"ground_truths\",\n",
    "        \"reference\": \"reference\"\n",
    "    }\n",
    ")\n",
    "\n",
    "print(\"\\n=== AUTO-EVALUATION RESULTS ===\")\n",
    "print(results.scores)\n"
   ]
  }
 ],
 "metadata": {
  "kernelspec": {
   "display_name": ".venv",
   "language": "python",
   "name": "python3"
  },
  "language_info": {
   "codemirror_mode": {
    "name": "ipython",
    "version": 3
   },
   "file_extension": ".py",
   "mimetype": "text/x-python",
   "name": "python",
   "nbconvert_exporter": "python",
   "pygments_lexer": "ipython3",
   "version": "3.13.4"
  }
 },
 "nbformat": 4,
 "nbformat_minor": 5
}
