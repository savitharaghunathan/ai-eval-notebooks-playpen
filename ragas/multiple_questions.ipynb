{
 "cells": [
  {
   "cell_type": "code",
   "execution_count": 1,
   "id": "45112d44",
   "metadata": {},
   "outputs": [
    {
     "name": "stdout",
     "output_type": "stream",
     "text": [
      "Requirement already satisfied: ragas in /Users/sraghuna/local_dev/ai-eval-notebooks-playpen/.venv/lib/python3.13/site-packages (0.2.15)\n",
      "Requirement already satisfied: datasets in /Users/sraghuna/local_dev/ai-eval-notebooks-playpen/.venv/lib/python3.13/site-packages (4.0.0)\n",
      "Requirement already satisfied: python-dotenv in /Users/sraghuna/local_dev/ai-eval-notebooks-playpen/.venv/lib/python3.13/site-packages (1.1.1)\n",
      "Requirement already satisfied: numpy in /Users/sraghuna/local_dev/ai-eval-notebooks-playpen/.venv/lib/python3.13/site-packages (from ragas) (2.3.1)\n",
      "Requirement already satisfied: tiktoken in /Users/sraghuna/local_dev/ai-eval-notebooks-playpen/.venv/lib/python3.13/site-packages (from ragas) (0.9.0)\n",
      "Requirement already satisfied: langchain in /Users/sraghuna/local_dev/ai-eval-notebooks-playpen/.venv/lib/python3.13/site-packages (from ragas) (0.3.26)\n",
      "Requirement already satisfied: langchain-core in /Users/sraghuna/local_dev/ai-eval-notebooks-playpen/.venv/lib/python3.13/site-packages (from ragas) (0.3.68)\n",
      "Requirement already satisfied: langchain-community in /Users/sraghuna/local_dev/ai-eval-notebooks-playpen/.venv/lib/python3.13/site-packages (from ragas) (0.3.27)\n",
      "Requirement already satisfied: langchain_openai in /Users/sraghuna/local_dev/ai-eval-notebooks-playpen/.venv/lib/python3.13/site-packages (from ragas) (0.3.27)\n",
      "Requirement already satisfied: nest-asyncio in /Users/sraghuna/local_dev/ai-eval-notebooks-playpen/.venv/lib/python3.13/site-packages (from ragas) (1.6.0)\n",
      "Requirement already satisfied: appdirs in /Users/sraghuna/local_dev/ai-eval-notebooks-playpen/.venv/lib/python3.13/site-packages (from ragas) (1.4.4)\n",
      "Requirement already satisfied: pydantic>=2 in /Users/sraghuna/local_dev/ai-eval-notebooks-playpen/.venv/lib/python3.13/site-packages (from ragas) (2.11.7)\n",
      "Requirement already satisfied: openai>1 in /Users/sraghuna/local_dev/ai-eval-notebooks-playpen/.venv/lib/python3.13/site-packages (from ragas) (1.95.0)\n",
      "Requirement already satisfied: diskcache>=5.6.3 in /Users/sraghuna/local_dev/ai-eval-notebooks-playpen/.venv/lib/python3.13/site-packages (from ragas) (5.6.3)\n",
      "Requirement already satisfied: filelock in /Users/sraghuna/local_dev/ai-eval-notebooks-playpen/.venv/lib/python3.13/site-packages (from datasets) (3.18.0)\n",
      "Requirement already satisfied: pyarrow>=15.0.0 in /Users/sraghuna/local_dev/ai-eval-notebooks-playpen/.venv/lib/python3.13/site-packages (from datasets) (20.0.0)\n",
      "Requirement already satisfied: dill<0.3.9,>=0.3.0 in /Users/sraghuna/local_dev/ai-eval-notebooks-playpen/.venv/lib/python3.13/site-packages (from datasets) (0.3.8)\n",
      "Requirement already satisfied: pandas in /Users/sraghuna/local_dev/ai-eval-notebooks-playpen/.venv/lib/python3.13/site-packages (from datasets) (2.3.1)\n",
      "Requirement already satisfied: requests>=2.32.2 in /Users/sraghuna/local_dev/ai-eval-notebooks-playpen/.venv/lib/python3.13/site-packages (from datasets) (2.32.4)\n",
      "Requirement already satisfied: tqdm>=4.66.3 in /Users/sraghuna/local_dev/ai-eval-notebooks-playpen/.venv/lib/python3.13/site-packages (from datasets) (4.67.1)\n",
      "Requirement already satisfied: xxhash in /Users/sraghuna/local_dev/ai-eval-notebooks-playpen/.venv/lib/python3.13/site-packages (from datasets) (3.5.0)\n",
      "Requirement already satisfied: multiprocess<0.70.17 in /Users/sraghuna/local_dev/ai-eval-notebooks-playpen/.venv/lib/python3.13/site-packages (from datasets) (0.70.16)\n",
      "Requirement already satisfied: fsspec<=2025.3.0,>=2023.1.0 in /Users/sraghuna/local_dev/ai-eval-notebooks-playpen/.venv/lib/python3.13/site-packages (from fsspec[http]<=2025.3.0,>=2023.1.0->datasets) (2025.3.0)\n",
      "Requirement already satisfied: huggingface-hub>=0.24.0 in /Users/sraghuna/local_dev/ai-eval-notebooks-playpen/.venv/lib/python3.13/site-packages (from datasets) (0.33.2)\n",
      "Requirement already satisfied: packaging in /Users/sraghuna/local_dev/ai-eval-notebooks-playpen/.venv/lib/python3.13/site-packages (from datasets) (24.2)\n",
      "Requirement already satisfied: pyyaml>=5.1 in /Users/sraghuna/local_dev/ai-eval-notebooks-playpen/.venv/lib/python3.13/site-packages (from datasets) (6.0.2)\n",
      "Requirement already satisfied: aiohttp!=4.0.0a0,!=4.0.0a1 in /Users/sraghuna/local_dev/ai-eval-notebooks-playpen/.venv/lib/python3.13/site-packages (from fsspec[http]<=2025.3.0,>=2023.1.0->datasets) (3.12.14)\n",
      "Requirement already satisfied: aiohappyeyeballs>=2.5.0 in /Users/sraghuna/local_dev/ai-eval-notebooks-playpen/.venv/lib/python3.13/site-packages (from aiohttp!=4.0.0a0,!=4.0.0a1->fsspec[http]<=2025.3.0,>=2023.1.0->datasets) (2.6.1)\n",
      "Requirement already satisfied: aiosignal>=1.4.0 in /Users/sraghuna/local_dev/ai-eval-notebooks-playpen/.venv/lib/python3.13/site-packages (from aiohttp!=4.0.0a0,!=4.0.0a1->fsspec[http]<=2025.3.0,>=2023.1.0->datasets) (1.4.0)\n",
      "Requirement already satisfied: attrs>=17.3.0 in /Users/sraghuna/local_dev/ai-eval-notebooks-playpen/.venv/lib/python3.13/site-packages (from aiohttp!=4.0.0a0,!=4.0.0a1->fsspec[http]<=2025.3.0,>=2023.1.0->datasets) (25.3.0)\n",
      "Requirement already satisfied: frozenlist>=1.1.1 in /Users/sraghuna/local_dev/ai-eval-notebooks-playpen/.venv/lib/python3.13/site-packages (from aiohttp!=4.0.0a0,!=4.0.0a1->fsspec[http]<=2025.3.0,>=2023.1.0->datasets) (1.7.0)\n",
      "Requirement already satisfied: multidict<7.0,>=4.5 in /Users/sraghuna/local_dev/ai-eval-notebooks-playpen/.venv/lib/python3.13/site-packages (from aiohttp!=4.0.0a0,!=4.0.0a1->fsspec[http]<=2025.3.0,>=2023.1.0->datasets) (6.6.3)\n",
      "Requirement already satisfied: propcache>=0.2.0 in /Users/sraghuna/local_dev/ai-eval-notebooks-playpen/.venv/lib/python3.13/site-packages (from aiohttp!=4.0.0a0,!=4.0.0a1->fsspec[http]<=2025.3.0,>=2023.1.0->datasets) (0.3.2)\n",
      "Requirement already satisfied: yarl<2.0,>=1.17.0 in /Users/sraghuna/local_dev/ai-eval-notebooks-playpen/.venv/lib/python3.13/site-packages (from aiohttp!=4.0.0a0,!=4.0.0a1->fsspec[http]<=2025.3.0,>=2023.1.0->datasets) (1.20.1)\n",
      "Requirement already satisfied: idna>=2.0 in /Users/sraghuna/local_dev/ai-eval-notebooks-playpen/.venv/lib/python3.13/site-packages (from yarl<2.0,>=1.17.0->aiohttp!=4.0.0a0,!=4.0.0a1->fsspec[http]<=2025.3.0,>=2023.1.0->datasets) (3.10)\n",
      "Requirement already satisfied: typing-extensions>=3.7.4.3 in /Users/sraghuna/local_dev/ai-eval-notebooks-playpen/.venv/lib/python3.13/site-packages (from huggingface-hub>=0.24.0->datasets) (4.14.1)\n",
      "Requirement already satisfied: hf-xet<2.0.0,>=1.1.2 in /Users/sraghuna/local_dev/ai-eval-notebooks-playpen/.venv/lib/python3.13/site-packages (from huggingface-hub>=0.24.0->datasets) (1.1.5)\n",
      "Requirement already satisfied: anyio<5,>=3.5.0 in /Users/sraghuna/local_dev/ai-eval-notebooks-playpen/.venv/lib/python3.13/site-packages (from openai>1->ragas) (4.9.0)\n",
      "Requirement already satisfied: distro<2,>=1.7.0 in /Users/sraghuna/local_dev/ai-eval-notebooks-playpen/.venv/lib/python3.13/site-packages (from openai>1->ragas) (1.9.0)\n",
      "Requirement already satisfied: httpx<1,>=0.23.0 in /Users/sraghuna/local_dev/ai-eval-notebooks-playpen/.venv/lib/python3.13/site-packages (from openai>1->ragas) (0.28.1)\n",
      "Requirement already satisfied: jiter<1,>=0.4.0 in /Users/sraghuna/local_dev/ai-eval-notebooks-playpen/.venv/lib/python3.13/site-packages (from openai>1->ragas) (0.10.0)\n",
      "Requirement already satisfied: sniffio in /Users/sraghuna/local_dev/ai-eval-notebooks-playpen/.venv/lib/python3.13/site-packages (from openai>1->ragas) (1.3.1)\n",
      "Requirement already satisfied: certifi in /Users/sraghuna/local_dev/ai-eval-notebooks-playpen/.venv/lib/python3.13/site-packages (from httpx<1,>=0.23.0->openai>1->ragas) (2025.7.9)\n",
      "Requirement already satisfied: httpcore==1.* in /Users/sraghuna/local_dev/ai-eval-notebooks-playpen/.venv/lib/python3.13/site-packages (from httpx<1,>=0.23.0->openai>1->ragas) (1.0.9)\n",
      "Requirement already satisfied: h11>=0.16 in /Users/sraghuna/local_dev/ai-eval-notebooks-playpen/.venv/lib/python3.13/site-packages (from httpcore==1.*->httpx<1,>=0.23.0->openai>1->ragas) (0.16.0)\n",
      "Requirement already satisfied: annotated-types>=0.6.0 in /Users/sraghuna/local_dev/ai-eval-notebooks-playpen/.venv/lib/python3.13/site-packages (from pydantic>=2->ragas) (0.7.0)\n",
      "Requirement already satisfied: pydantic-core==2.33.2 in /Users/sraghuna/local_dev/ai-eval-notebooks-playpen/.venv/lib/python3.13/site-packages (from pydantic>=2->ragas) (2.33.2)\n",
      "Requirement already satisfied: typing-inspection>=0.4.0 in /Users/sraghuna/local_dev/ai-eval-notebooks-playpen/.venv/lib/python3.13/site-packages (from pydantic>=2->ragas) (0.4.1)\n",
      "Requirement already satisfied: charset_normalizer<4,>=2 in /Users/sraghuna/local_dev/ai-eval-notebooks-playpen/.venv/lib/python3.13/site-packages (from requests>=2.32.2->datasets) (3.4.2)\n",
      "Requirement already satisfied: urllib3<3,>=1.21.1 in /Users/sraghuna/local_dev/ai-eval-notebooks-playpen/.venv/lib/python3.13/site-packages (from requests>=2.32.2->datasets) (2.5.0)\n",
      "Requirement already satisfied: langchain-text-splitters<1.0.0,>=0.3.8 in /Users/sraghuna/local_dev/ai-eval-notebooks-playpen/.venv/lib/python3.13/site-packages (from langchain->ragas) (0.3.8)\n",
      "Requirement already satisfied: langsmith>=0.1.17 in /Users/sraghuna/local_dev/ai-eval-notebooks-playpen/.venv/lib/python3.13/site-packages (from langchain->ragas) (0.4.4)\n",
      "Requirement already satisfied: SQLAlchemy<3,>=1.4 in /Users/sraghuna/local_dev/ai-eval-notebooks-playpen/.venv/lib/python3.13/site-packages (from langchain->ragas) (2.0.41)\n",
      "Requirement already satisfied: tenacity!=8.4.0,<10.0.0,>=8.1.0 in /Users/sraghuna/local_dev/ai-eval-notebooks-playpen/.venv/lib/python3.13/site-packages (from langchain-core->ragas) (9.1.2)\n",
      "Requirement already satisfied: jsonpatch<2.0,>=1.33 in /Users/sraghuna/local_dev/ai-eval-notebooks-playpen/.venv/lib/python3.13/site-packages (from langchain-core->ragas) (1.33)\n",
      "Requirement already satisfied: jsonpointer>=1.9 in /Users/sraghuna/local_dev/ai-eval-notebooks-playpen/.venv/lib/python3.13/site-packages (from jsonpatch<2.0,>=1.33->langchain-core->ragas) (3.0.0)\n",
      "Requirement already satisfied: orjson<4.0.0,>=3.9.14 in /Users/sraghuna/local_dev/ai-eval-notebooks-playpen/.venv/lib/python3.13/site-packages (from langsmith>=0.1.17->langchain->ragas) (3.10.18)\n",
      "Requirement already satisfied: requests-toolbelt<2.0.0,>=1.0.0 in /Users/sraghuna/local_dev/ai-eval-notebooks-playpen/.venv/lib/python3.13/site-packages (from langsmith>=0.1.17->langchain->ragas) (1.0.0)\n",
      "Requirement already satisfied: zstandard<0.24.0,>=0.23.0 in /Users/sraghuna/local_dev/ai-eval-notebooks-playpen/.venv/lib/python3.13/site-packages (from langsmith>=0.1.17->langchain->ragas) (0.23.0)\n",
      "Requirement already satisfied: dataclasses-json<0.7,>=0.5.7 in /Users/sraghuna/local_dev/ai-eval-notebooks-playpen/.venv/lib/python3.13/site-packages (from langchain-community->ragas) (0.6.7)\n",
      "Requirement already satisfied: pydantic-settings<3.0.0,>=2.4.0 in /Users/sraghuna/local_dev/ai-eval-notebooks-playpen/.venv/lib/python3.13/site-packages (from langchain-community->ragas) (2.10.1)\n",
      "Requirement already satisfied: httpx-sse<1.0.0,>=0.4.0 in /Users/sraghuna/local_dev/ai-eval-notebooks-playpen/.venv/lib/python3.13/site-packages (from langchain-community->ragas) (0.4.1)\n",
      "Requirement already satisfied: marshmallow<4.0.0,>=3.18.0 in /Users/sraghuna/local_dev/ai-eval-notebooks-playpen/.venv/lib/python3.13/site-packages (from dataclasses-json<0.7,>=0.5.7->langchain-community->ragas) (3.26.1)\n",
      "Requirement already satisfied: typing-inspect<1,>=0.4.0 in /Users/sraghuna/local_dev/ai-eval-notebooks-playpen/.venv/lib/python3.13/site-packages (from dataclasses-json<0.7,>=0.5.7->langchain-community->ragas) (0.9.0)\n",
      "Requirement already satisfied: mypy-extensions>=0.3.0 in /Users/sraghuna/local_dev/ai-eval-notebooks-playpen/.venv/lib/python3.13/site-packages (from typing-inspect<1,>=0.4.0->dataclasses-json<0.7,>=0.5.7->langchain-community->ragas) (1.1.0)\n",
      "Requirement already satisfied: regex>=2022.1.18 in /Users/sraghuna/local_dev/ai-eval-notebooks-playpen/.venv/lib/python3.13/site-packages (from tiktoken->ragas) (2024.11.6)\n",
      "Requirement already satisfied: python-dateutil>=2.8.2 in /Users/sraghuna/local_dev/ai-eval-notebooks-playpen/.venv/lib/python3.13/site-packages (from pandas->datasets) (2.9.0.post0)\n",
      "Requirement already satisfied: pytz>=2020.1 in /Users/sraghuna/local_dev/ai-eval-notebooks-playpen/.venv/lib/python3.13/site-packages (from pandas->datasets) (2025.2)\n",
      "Requirement already satisfied: tzdata>=2022.7 in /Users/sraghuna/local_dev/ai-eval-notebooks-playpen/.venv/lib/python3.13/site-packages (from pandas->datasets) (2025.2)\n",
      "Requirement already satisfied: six>=1.5 in /Users/sraghuna/local_dev/ai-eval-notebooks-playpen/.venv/lib/python3.13/site-packages (from python-dateutil>=2.8.2->pandas->datasets) (1.17.0)\n",
      "Note: you may need to restart the kernel to use updated packages.\n",
      "\n",
      "=== Example 1 ===\n",
      "Question: What is the season for leaves to turn color?\n",
      "Response: The season when leaves turn color is autumn (fall). In most parts of the Northern Hemisphere, this typically happens from late September through October, sometimes into November. It's caused by shorter days and cooler temperatures breaking down chlorophyll, revealing reds, oranges, and yellows.\n"
     ]
    },
    {
     "data": {
      "application/vnd.jupyter.widget-view+json": {
       "model_id": "43e526132ee444dbb4d7dbf3d153e8df",
       "version_major": 2,
       "version_minor": 0
      },
      "text/plain": [
       "Evaluating:   0%|          | 0/4 [00:00<?, ?it/s]"
      ]
     },
     "metadata": {},
     "output_type": "display_data"
    },
    {
     "name": "stdout",
     "output_type": "stream",
     "text": [
      "faithfulness      : 1.000\n",
      "context_precision : 1.000\n",
      "context_recall    : 1.000\n",
      "answer_relevancy  : 0.938\n",
      "\n",
      "=== Example 2 ===\n",
      "Question: Why do we have seasons?\n",
      "Response: We have seasons because the Earth’s axis is tilted relative to its orbit around the Sun. This tilt causes different parts of Earth to receive varying amounts of sunlight during the year.\n"
     ]
    },
    {
     "data": {
      "application/vnd.jupyter.widget-view+json": {
       "model_id": "f755f781fd3d4b9697ac803ef68fec9f",
       "version_major": 2,
       "version_minor": 0
      },
      "text/plain": [
       "Evaluating:   0%|          | 0/4 [00:00<?, ?it/s]"
      ]
     },
     "metadata": {},
     "output_type": "display_data"
    },
    {
     "name": "stdout",
     "output_type": "stream",
     "text": [
      "faithfulness      : 1.000\n",
      "context_precision : 1.000\n",
      "context_recall    : 1.000\n",
      "answer_relevancy  : 0.974\n",
      "\n",
      "=== Example 3 ===\n",
      "Question: Why do we have seasons?\n",
      "Response: Because of how Earth moves around the Sun.\n"
     ]
    },
    {
     "data": {
      "application/vnd.jupyter.widget-view+json": {
       "model_id": "9ffea097e1664c87b0d3eec0554eef4b",
       "version_major": 2,
       "version_minor": 0
      },
      "text/plain": [
       "Evaluating:   0%|          | 0/4 [00:00<?, ?it/s]"
      ]
     },
     "metadata": {},
     "output_type": "display_data"
    },
    {
     "name": "stdout",
     "output_type": "stream",
     "text": [
      "faithfulness      : 1.000\n",
      "context_precision : 1.000\n",
      "context_recall    : 1.000\n",
      "answer_relevancy  : 0.954\n",
      "\n",
      "=== Example 4 ===\n",
      "Question: What is the season for leaves to turn color?\n",
      "Response: Leaves turn color when it gets colder.\n"
     ]
    },
    {
     "data": {
      "application/vnd.jupyter.widget-view+json": {
       "model_id": "e0c7fd90c4f94fbea46eaf819c572673",
       "version_major": 2,
       "version_minor": 0
      },
      "text/plain": [
       "Evaluating:   0%|          | 0/4 [00:00<?, ?it/s]"
      ]
     },
     "metadata": {},
     "output_type": "display_data"
    },
    {
     "name": "stdout",
     "output_type": "stream",
     "text": [
      "faithfulness      : 1.000\n",
      "context_precision : 1.000\n",
      "context_recall    : 1.000\n",
      "answer_relevancy  : 0.912\n",
      "\n",
      "=== Example 5 ===\n",
      "Question: Why do we have seasons?\n",
      "Response: Because the Moon’s gravity changes how the Earth spins throughout the year.\n"
     ]
    },
    {
     "data": {
      "application/vnd.jupyter.widget-view+json": {
       "model_id": "6fd0409ea6a442ccbeae4ed03101c10a",
       "version_major": 2,
       "version_minor": 0
      },
      "text/plain": [
       "Evaluating:   0%|          | 0/4 [00:00<?, ?it/s]"
      ]
     },
     "metadata": {},
     "output_type": "display_data"
    },
    {
     "name": "stdout",
     "output_type": "stream",
     "text": [
      "faithfulness      : 1.000\n",
      "context_precision : 1.000\n",
      "context_recall    : 1.000\n",
      "answer_relevancy  : 0.822\n",
      "\n",
      "=== Example 6 ===\n",
      "Question: What is the season for leaves to turn color?\n",
      "Response: Fish migrate upstream to lay eggs.\n"
     ]
    },
    {
     "data": {
      "application/vnd.jupyter.widget-view+json": {
       "model_id": "114f4edf80194b47be22ed68e60ac284",
       "version_major": 2,
       "version_minor": 0
      },
      "text/plain": [
       "Evaluating:   0%|          | 0/4 [00:00<?, ?it/s]"
      ]
     },
     "metadata": {},
     "output_type": "display_data"
    },
    {
     "name": "stdout",
     "output_type": "stream",
     "text": [
      "faithfulness      : 1.000\n",
      "context_precision : 0.000\n",
      "context_recall    : 1.000\n",
      "answer_relevancy  : 0.748\n"
     ]
    }
   ],
   "source": [
    "\n",
    "# Ragas evaluation on pre-defined examples\n",
    "\n",
    "%pip install ragas datasets python-dotenv\n",
    "\n",
    "from dotenv import load_dotenv\n",
    "import os\n",
    "from datasets import Dataset\n",
    "from ragas import evaluate\n",
    "from ragas.metrics import faithfulness, context_precision, context_recall, answer_relevancy\n",
    "\n",
    "load_dotenv()\n",
    "if not os.getenv(\"OPENAI_API_KEY\"):\n",
    "    raise ValueError(\"OPENAI_API_KEY not found in .env file.\")\n",
    "\n",
    "\n",
    "qa_pairs = [\n",
    "    (\n",
    "        \"What is the season for leaves to turn color?\",\n",
    "        \"The season when leaves turn color is autumn (fall). In most parts of the Northern Hemisphere, \"\n",
    "        \"this typically happens from late September through October, sometimes into November. \"\n",
    "        \"It's caused by shorter days and cooler temperatures breaking down chlorophyll, revealing reds, oranges, and yellows.\"\n",
    "    ),\n",
    "    (\n",
    "        \"Why do we have seasons?\",\n",
    "        \"We have seasons because the Earth’s axis is tilted relative to its orbit around the Sun. \"\n",
    "        \"This tilt causes different parts of Earth to receive varying amounts of sunlight during the year.\"\n",
    "    ),\n",
    "    (\n",
    "        \"Why do we have seasons?\",\n",
    "        \"Because of how Earth moves around the Sun.\"\n",
    "    ),\n",
    "    (\n",
    "        \"What is the season for leaves to turn color?\",\n",
    "        \"Leaves turn color when it gets colder.\"\n",
    "    ),\n",
    "    (\n",
    "        \"Why do we have seasons?\",\n",
    "        \"Because the Moon’s gravity changes how the Earth spins throughout the year.\"\n",
    "    ),\n",
    "    (\n",
    "        \"What is the season for leaves to turn color?\",\n",
    "        \"Fish migrate upstream to lay eggs.\"\n",
    "    )\n",
    "]\n",
    "\n",
    "# run eval\n",
    "\n",
    "for idx, (question, response) in enumerate(qa_pairs, start=1):\n",
    "    context = response\n",
    "    ground_truth = response\n",
    "    \n",
    "    print(f\"\\n=== Example {idx} ===\")\n",
    "    print(f\"Question: {question}\")\n",
    "    print(f\"Response: {response}\")\n",
    "    \n",
    "    ragas_data = Dataset.from_dict({\n",
    "        \"question\": [question],\n",
    "        \"contexts\": [[context]],\n",
    "        \"answer\": [response],\n",
    "        \"ground_truths\": [[ground_truth]],\n",
    "        \"reference\": [ground_truth]\n",
    "    })\n",
    "    \n",
    "    results = evaluate(\n",
    "        ragas_data,\n",
    "        metrics=[faithfulness, context_precision, context_recall, answer_relevancy],\n",
    "        column_map={\n",
    "            \"question\": \"question\",\n",
    "            \"contexts\": \"contexts\",\n",
    "            \"answer\": \"answer\",\n",
    "            \"ground_truths\": \"ground_truths\",\n",
    "            \"reference\": \"reference\"\n",
    "        }\n",
    "    )\n",
    "    \n",
    "    # Print metrics \n",
    "    for metric, value in results.scores[0].items():\n",
    "        print(f\"{metric:<18}: {float(value):.3f}\")\n"
   ]
  },
  {
   "cell_type": "code",
   "execution_count": 2,
   "id": "737570a3",
   "metadata": {},
   "outputs": [
    {
     "name": "stdout",
     "output_type": "stream",
     "text": [
      "\n",
      "=== Example 1 ===\n",
      "Question: Why do leaves change color in the fall?\n",
      "Response: Leaves change color in autumn because shorter days and cooler temperatures cause chlorophyll to break down, revealing other pigments.\n"
     ]
    },
    {
     "data": {
      "application/vnd.jupyter.widget-view+json": {
       "model_id": "b6c23086a3a44ba79d5c38c61df8eeac",
       "version_major": 2,
       "version_minor": 0
      },
      "text/plain": [
       "Evaluating:   0%|          | 0/4 [00:00<?, ?it/s]"
      ]
     },
     "metadata": {},
     "output_type": "display_data"
    },
    {
     "name": "stdout",
     "output_type": "stream",
     "text": [
      "faithfulness      : 1.000\n",
      "context_precision : 1.000\n",
      "context_recall    : 1.000\n",
      "answer_relevancy  : 0.987\n",
      "\n",
      "=== Example 2 ===\n",
      "Question: Why do we have seasons on Earth?\n",
      "Response: Seasons occur because the Earth's axis is tilted, which changes how sunlight hits different parts of the planet throughout the year.\n"
     ]
    },
    {
     "data": {
      "application/vnd.jupyter.widget-view+json": {
       "model_id": "7379491208b742749111144ca94d3f09",
       "version_major": 2,
       "version_minor": 0
      },
      "text/plain": [
       "Evaluating:   0%|          | 0/4 [00:00<?, ?it/s]"
      ]
     },
     "metadata": {},
     "output_type": "display_data"
    },
    {
     "name": "stdout",
     "output_type": "stream",
     "text": [
      "faithfulness      : 1.000\n",
      "context_precision : 1.000\n",
      "context_recall    : 1.000\n",
      "answer_relevancy  : 0.970\n",
      "\n",
      "=== Example 3 ===\n",
      "Question: Why do we have seasons on Earth?\n",
      "Response: We have seasons because Earth moves around the Sun.\n"
     ]
    },
    {
     "data": {
      "application/vnd.jupyter.widget-view+json": {
       "model_id": "37778963e73849a0ab1a2c1bea6201fa",
       "version_major": 2,
       "version_minor": 0
      },
      "text/plain": [
       "Evaluating:   0%|          | 0/4 [00:00<?, ?it/s]"
      ]
     },
     "metadata": {},
     "output_type": "display_data"
    },
    {
     "name": "stdout",
     "output_type": "stream",
     "text": [
      "faithfulness      : 1.000\n",
      "context_precision : 0.000\n",
      "context_recall    : 0.000\n",
      "answer_relevancy  : 0.974\n",
      "\n",
      "=== Example 4 ===\n",
      "Question: Why do leaves change color in the fall?\n",
      "Response: Leaves change color because fish swim upstream in autumn.\n"
     ]
    },
    {
     "data": {
      "application/vnd.jupyter.widget-view+json": {
       "model_id": "b077686f570a45af85359440eb4b774c",
       "version_major": 2,
       "version_minor": 0
      },
      "text/plain": [
       "Evaluating:   0%|          | 0/4 [00:00<?, ?it/s]"
      ]
     },
     "metadata": {},
     "output_type": "display_data"
    },
    {
     "name": "stdout",
     "output_type": "stream",
     "text": [
      "faithfulness      : 0.000\n",
      "context_precision : 0.000\n",
      "context_recall    : 0.000\n",
      "answer_relevancy  : 0.000\n"
     ]
    }
   ],
   "source": [
    "\n",
    "\n",
    "from dotenv import load_dotenv\n",
    "import os\n",
    "from datasets import Dataset\n",
    "from ragas import evaluate\n",
    "from ragas.metrics import faithfulness, context_precision, context_recall, answer_relevancy\n",
    "\n",
    "load_dotenv()\n",
    "if not os.getenv(\"OPENAI_API_KEY\"):\n",
    "    raise ValueError(\"OPENAI_API_KEY not found in .env file.\")\n",
    "\n",
    "examples = [\n",
    "    {\n",
    "        \"question\": \"Why do leaves change color in the fall?\",\n",
    "        \"contexts\": [\n",
    "            \"Leaves turn color in autumn due to changes in daylight and temperature.\",\n",
    "            \"Photosynthesis slows and chlorophyll breaks down, revealing red and yellow pigments.\",\n",
    "            \"Some tree species have different pigment compounds that show up prominently in fall.\"\n",
    "        ],\n",
    "        \"response\": \"Leaves change color in autumn because shorter days and cooler temperatures cause chlorophyll to break down, revealing other pigments.\",\n",
    "        \"reference\": \"Leaves change color in autumn because chlorophyll breaks down due to shorter days and cooler weather.\"\n",
    "    },\n",
    "    {\n",
    "        \"question\": \"Why do we have seasons on Earth?\",\n",
    "        \"contexts\": [\n",
    "            \"The tilt of Earth's axis relative to its orbit causes different parts of Earth to receive varying amounts of sunlight throughout the year.\",\n",
    "            \"This axial tilt is approximately 23.5 degrees.\",\n",
    "            \"Changes in distance from the sun during the orbit do not cause seasons.\"\n",
    "        ],\n",
    "        \"response\": \"Seasons occur because the Earth's axis is tilted, which changes how sunlight hits different parts of the planet throughout the year.\",\n",
    "        \"reference\": \"Earth has seasons because its axis is tilted relative to its orbital plane, causing varying sunlight.\"\n",
    "    },\n",
    "    {\n",
    "        #  incomplete\n",
    "        \"question\": \"Why do we have seasons on Earth?\",\n",
    "        \"contexts\": [\n",
    "            \"Earth revolves around the Sun in an elliptical orbit.\",\n",
    "            \"There are four main seasons: spring, summer, autumn, and winter.\"\n",
    "        ],\n",
    "        \"response\": \"We have seasons because Earth moves around the Sun.\",\n",
    "        \"reference\": \"Earth has seasons because its axis is tilted relative to its orbit, changing sunlight.\"\n",
    "    },\n",
    "    {\n",
    "        # unrelated / wrong\n",
    "        \"question\": \"Why do leaves change color in the fall?\",\n",
    "        \"contexts\": [\n",
    "            \"Fish migrate upstream to spawn in freshwater rivers.\",\n",
    "            \"This migration ensures the survival of the next generation.\"\n",
    "        ],\n",
    "        \"response\": \"Leaves change color because fish swim upstream in autumn.\",\n",
    "        \"reference\": \"Leaves change color due to breakdown of chlorophyll in cooler temperatures.\"\n",
    "    }\n",
    "]\n",
    "\n",
    "\n",
    "for idx, ex in enumerate(examples, start=1):\n",
    "    print(f\"\\n=== Example {idx} ===\")\n",
    "    print(f\"Question: {ex['question']}\")\n",
    "    print(f\"Response: {ex['response']}\")\n",
    "    \n",
    "    ragas_data = Dataset.from_dict({\n",
    "        \"question\": [ex['question']],\n",
    "        \"contexts\": [ex['contexts']],\n",
    "        \"answer\": [ex['response']],\n",
    "        \"ground_truths\": [[ex['reference']]],\n",
    "        \"reference\": [ex['reference']]\n",
    "    })\n",
    "    \n",
    "    results = evaluate(\n",
    "        ragas_data,\n",
    "        metrics=[faithfulness, context_precision, context_recall, answer_relevancy],\n",
    "        column_map={\n",
    "            \"question\": \"question\",\n",
    "            \"contexts\": \"contexts\",\n",
    "            \"answer\": \"answer\",\n",
    "            \"ground_truths\": \"ground_truths\",\n",
    "            \"reference\": \"reference\"\n",
    "        }\n",
    "    )\n",
    "    \n",
    "    for metric, value in results.scores[0].items():\n",
    "        print(f\"{metric:<18}: {float(value):.3f}\")\n"
   ]
  }
 ],
 "metadata": {
  "kernelspec": {
   "display_name": ".venv",
   "language": "python",
   "name": "python3"
  },
  "language_info": {
   "codemirror_mode": {
    "name": "ipython",
    "version": 3
   },
   "file_extension": ".py",
   "mimetype": "text/x-python",
   "name": "python",
   "nbconvert_exporter": "python",
   "pygments_lexer": "ipython3",
   "version": "3.13.4"
  }
 },
 "nbformat": 4,
 "nbformat_minor": 5
}
